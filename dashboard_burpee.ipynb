{
 "cells": [
  {
   "cell_type": "code",
   "execution_count": 12,
   "metadata": {},
   "outputs": [],
   "source": [
    "import pygsheets\n",
    "from oauth2client.service_account import ServiceAccountCredentials\n",
    "from pathlib import Path\n",
    "import pandas as pd\n",
    "pd.set_option('mode.chained_assignment', None)"
   ]
  },
  {
   "cell_type": "code",
   "execution_count": 13,
   "metadata": {},
   "outputs": [],
   "source": [
    "import pandas as pd\n",
    "pd.options.display.max_columns = 0"
   ]
  },
  {
   "cell_type": "code",
   "execution_count": 14,
   "metadata": {},
   "outputs": [],
   "source": [
    "\n",
    "# Load the credentials from the JSON file (replace with the path to your file)\n",
    "sf_path = r'inductive-gift-355101-48518c54d576.json'\n",
    "gc = pygsheets.authorize(service_account_file=sf_path)\n"
   ]
  },
  {
   "cell_type": "code",
   "execution_count": 15,
   "metadata": {},
   "outputs": [],
   "source": [
    "def get_number_gsheet(service_file_path, spreadsheet_id, sheet_name):\n",
    "    gc = pygsheets.authorize(service_file=service_file_path)\n",
    "    sh = gc.open_by_key(spreadsheet_id)\n",
    "    wks = sh.worksheet_by_title(sheet_name)\n",
    "    df = wks.get_as_df(\n",
    "        numerize=False, value_render='UNFORMATTED_VALUE', empty_value=None)\n",
    "    df = df.replace(to_replace='', value=None)\n",
    "\n",
    "    return df\n",
    "\n",
    "# %%\n",
    "# lay du lieu tu googhesheet ma khong co du lieu so\n",
    "\n",
    "\n",
    "def get_df_from_gsheet(service_file_path, spreadsheet_id, sheet_name, start=None):\n",
    "    gc = pygsheets.authorize(service_file=service_file_path)\n",
    "    sh = gc.open_by_key(spreadsheet_id)\n",
    "    wks = sh.worksheet_by_title(sheet_name)\n",
    "    df = wks.get_as_df(start, numerize=False, empty_value=None)\n",
    "    df = df.replace(to_replace='', value=None)\n",
    "    df.drop_duplicates(inplace=True)\n",
    "\n",
    "    return df"
   ]
  },
  {
   "cell_type": "code",
   "execution_count": 16,
   "metadata": {},
   "outputs": [],
   "source": [
    "def get_data(sheet_name, start):\n",
    "    spreadsheet_id = '1Bmm9GGP3QE5k_T8eODN3Hrh8ICzMgAazYkw0gWNRZDs'\n",
    "\n",
    "    gc = pygsheets.authorize(service_file=sf_path)\n",
    "    sh = gc.open_by_key(spreadsheet_id)\n",
    "    wks = sh.worksheet_by_title(sheet_name)\n",
    "    df = wks.get_as_df(start, numerize=False, value_render='UNFORMATTED_VALUE', empty_value=None)\n",
    "    df = df.replace(to_replace='', value=None)\n",
    "    # df.drop_duplicates(inplace=True)\n",
    "\n",
    "    df2 = df.transpose()\n",
    "    df2.iloc[:,1] = df2.iloc[:,1].ffill()\n",
    "    df3 = df2.transpose()\n",
    "    # Combine the two lists\n",
    "    combined_list = [f\"{a}|{b}\" for a, b in zip(df3.iloc[1].to_list(), df3.iloc[2].to_list())]\n",
    "    df3.columns = combined_list\n",
    "    return df3"
   ]
  },
  {
   "cell_type": "code",
   "execution_count": 17,
   "metadata": {},
   "outputs": [],
   "source": [
    "def extract_daily(df3, sheet_name):\n",
    "    df_daily = df3.iloc[10:,:]\n",
    "    df_daily2 = df_daily.melt(id_vars='None|None')\n",
    "    df_daily2[['user', 'criteria']] =df_daily2['variable'].str.split('|', expand=True)\n",
    "    df_daily2.rename(columns={'None|None':'report_date'}, inplace=True)\n",
    "    df_daily2.drop(columns='variable', inplace=True)\n",
    "    df_daily2.dropna(subset='value', inplace=True)\n",
    "    df_daily3 = df_daily2.query(\"value!=0\").pivot(columns='criteria', index=['user', 'report_date'], values='value').reset_index()\n",
    "    df_daily3['report_date'] = df_daily3['report_date'].astype('str') + '/' + sheet_name\n",
    "    df_daily3['report_date'] = pd.to_datetime(df_daily3['report_date'], format='%d/%m/%Y')\n",
    "    # df_daily3.to_parquet(rf\".\\data\\daily\\{str(sheet_name).replace('/', '-')}.parquet\", index=False )\n",
    "    return df_daily3"
   ]
  },
  {
   "cell_type": "code",
   "execution_count": 18,
   "metadata": {},
   "outputs": [],
   "source": [
    "def extract_target(df3, sheet_name):\n",
    "    df_target = df3.iloc[3:10]\n",
    "    df_target.rename(columns={\"None|None\":\"item\"}, inplace=True)\n",
    "    df_target.query(\"item.isin(['Target', 'Daily'])\", inplace=True)\n",
    "\n",
    "    df_target2 = df_target.melt(id_vars='item')\n",
    "    df_target2[['user', 'criteria']] =df_target2['variable'].str.split('|', expand=True)\n",
    "    # df_target2.rename(columns={'item':'report_date'}, inplace=True)\n",
    "    df_target2.drop(columns='variable', inplace=True)\n",
    "    df_target2.dropna(subset='value', inplace=True)\n",
    "\n",
    "    df_target2.drop_duplicates(subset=['item', 'user'], inplace=True)\n",
    "    df_target3 = df_target2.query(\"value!=0\").pivot(columns='item', index=['user'], values='value').reset_index()\n",
    "\n",
    "    df_target3['report_month'] = '01/' + sheet_name\n",
    "    df_target3['report_month'] = pd.to_datetime(df_target3['report_month'], format='%d/%m/%Y')\n",
    "    # df_target3.to_parquet(rf\".\\data\\target\\{str(sheet_name).replace('/', '-')}.parquet\", index=False )\n",
    "    return df_target3"
   ]
  },
  {
   "cell_type": "code",
   "execution_count": 19,
   "metadata": {},
   "outputs": [
    {
     "name": "stdout",
     "output_type": "stream",
     "text": [
      "9/2024\n"
     ]
    }
   ],
   "source": [
    "sheets = [\n",
    "        '9/2024',\n",
    "        # '8/2024',\n",
    "        # '7/2024',\n",
    "        # '6/2024',\n",
    "        # '5/2024',\n",
    "        # '4/2024',\n",
    "        # '3/2024',\n",
    "        # '2/2024',\n",
    "        # '1/2024',\n",
    "        # '12/2023',\n",
    "        # '11/2023',\n",
    "        # '10/2023',\n",
    "        # '9/2023',\n",
    "        # '8/2023',\n",
    "        # '7/2023',\n",
    "        # '6/2023',\n",
    "        # '5/2023',\n",
    "        # '4/2023',\n",
    "        # '3/2023',\n",
    "        # '2/2023',\n",
    "        # '1/2023',\n",
    "]\n",
    "for sheet_name in sheets:\n",
    "    df3 = get_data(sheet_name=sheet_name, start='A1')\n",
    "    df_daily = extract_daily(df3, sheet_name)\n",
    "    df_target = extract_target(df3, sheet_name)\n",
    "    # Get start of month and number of days in the month\n",
    "    start_of_month = df_target.loc[0,'report_month']\n",
    "    num_days = start_of_month.days_in_month\n",
    "\n",
    "    # Create a date range for each day of the month\n",
    "    date_range = pd.date_range(start_of_month, periods=num_days, freq='D')\n",
    "    df_target['report_date'] = [date_range]*len(df_target)\n",
    "    df_target = df_target.explode('report_date')\n",
    "    df_target['report_day'] = df_target['report_date'].dt.day\n",
    "    df_target['no_of_day'] = num_days\n",
    "    df_target['Daily'] = df_target['Daily'].astype(int)\n",
    "\n",
    "    df_target['Target'] = df_target['Target'].astype(int)\n",
    "    df_target['daily_target_norm'] =  df_target['Target']/df_target[\"no_of_day\"]\n",
    "    df_target['mtd_target_norm'] = df_target['daily_target_norm'] * df_target['report_day']\n",
    "    dta = df_target.merge(df_daily, how='left', on=['user','report_date'])\n",
    "    dta['Total'] = dta['Total'].fillna(0)\n",
    "    dta['Total'] = pd.to_numeric(dta['Total'], errors='coerce')\n",
    "    dta['mtd_actual'] = dta.sort_values(by=['user', 'report_date']).groupby(['user'])['Total'].cumsum()\n",
    "    # danh dau ngay dai daily target\n",
    "    dta['flg_daily']  = 0\n",
    "    flt = dta['Total'] >= dta['Daily']\n",
    "    dta.loc[flt, 'flg_daily'] = 1\n",
    "\n",
    "    # danh dau ngay co tap luyen\n",
    "    dta['flg_workout'] = 0\n",
    "    flt = dta['Total'] >0\n",
    "    dta.loc[flt, 'flg_workout'] = 1\n",
    "\n",
    "\n",
    "    for col in ['Burpee', 'Core','Pushup', 'Run', 'Squat','flg_daily', 'flg_workout']:\n",
    "        try:\n",
    "            dta[col] = pd.to_numeric(dta[col], errors='coerce')\n",
    "            dta[col] = dta[col].fillna(0)\n",
    "            new_col = 'mtd_'+col\n",
    "            dta[new_col] = dta.sort_values(by=['user', 'report_date']).groupby(['user'])[col].cumsum()\n",
    "        except Exception as e:\n",
    "            print(e)\n",
    "    # tinh toan accumulate\n",
    "    dta.to_parquet(rf\".\\data\\daily\\dta_{str(sheet_name).replace('/', '-')}.parquet\", index=False )\n",
    "    print(sheet_name)"
   ]
  },
  {
   "cell_type": "code",
   "execution_count": 11,
   "metadata": {},
   "outputs": [
    {
     "ename": "RefreshError",
     "evalue": "('invalid_grant: Invalid JWT Signature.', {'error': 'invalid_grant', 'error_description': 'Invalid JWT Signature.'})",
     "output_type": "error",
     "traceback": [
      "\u001b[1;31m---------------------------------------------------------------------------\u001b[0m",
      "\u001b[1;31mRefreshError\u001b[0m                              Traceback (most recent call last)",
      "Input \u001b[1;32mIn [11]\u001b[0m, in \u001b[0;36m<cell line: 7>\u001b[1;34m()\u001b[0m\n\u001b[0;32m      4\u001b[0m spreadsheet_id \u001b[38;5;241m=\u001b[39m \u001b[38;5;124m'\u001b[39m\u001b[38;5;124m1Bmm9GGP3QE5k_T8eODN3Hrh8ICzMgAazYkw0gWNRZDs\u001b[39m\u001b[38;5;124m'\u001b[39m\n\u001b[0;32m      6\u001b[0m gc \u001b[38;5;241m=\u001b[39m pygsheets\u001b[38;5;241m.\u001b[39mauthorize(service_file\u001b[38;5;241m=\u001b[39msf_path)\n\u001b[1;32m----> 7\u001b[0m sh \u001b[38;5;241m=\u001b[39m \u001b[43mgc\u001b[49m\u001b[38;5;241;43m.\u001b[39;49m\u001b[43mopen_by_key\u001b[49m\u001b[43m(\u001b[49m\u001b[43mspreadsheet_id\u001b[49m\u001b[43m)\u001b[49m\n\u001b[0;32m      8\u001b[0m wks \u001b[38;5;241m=\u001b[39m sh\u001b[38;5;241m.\u001b[39mworksheet_by_title(sheet_name)\n\u001b[0;32m      9\u001b[0m df \u001b[38;5;241m=\u001b[39m wks\u001b[38;5;241m.\u001b[39mget_as_df(start\u001b[38;5;241m=\u001b[39m\u001b[38;5;124m'\u001b[39m\u001b[38;5;124mA1\u001b[39m\u001b[38;5;124m'\u001b[39m, numerize\u001b[38;5;241m=\u001b[39m\u001b[38;5;28;01mFalse\u001b[39;00m, value_render\u001b[38;5;241m=\u001b[39m\u001b[38;5;124m'\u001b[39m\u001b[38;5;124mUNFORMATTED_VALUE\u001b[39m\u001b[38;5;124m'\u001b[39m, empty_value\u001b[38;5;241m=\u001b[39m\u001b[38;5;28;01mNone\u001b[39;00m)\n",
      "File \u001b[1;32mc:\\Users\\kienv\\AppData\\Local\\Programs\\Python\\Python310\\lib\\site-packages\\pygsheets\\client.py:159\u001b[0m, in \u001b[0;36mClient.open_by_key\u001b[1;34m(self, key)\u001b[0m\n\u001b[0;32m    148\u001b[0m \u001b[38;5;28;01mdef\u001b[39;00m \u001b[38;5;21mopen_by_key\u001b[39m(\u001b[38;5;28mself\u001b[39m, key):\n\u001b[0;32m    149\u001b[0m     \u001b[38;5;124;03m\"\"\"Open a spreadsheet by key.\u001b[39;00m\n\u001b[0;32m    150\u001b[0m \n\u001b[0;32m    151\u001b[0m \u001b[38;5;124;03m    >>> import pygsheets\u001b[39;00m\n\u001b[1;32m   (...)\u001b[0m\n\u001b[0;32m    157\u001b[0m \u001b[38;5;124;03m    :raises pygsheets.SpreadsheetNotFound:  The given spreadsheet ID was not found.\u001b[39;00m\n\u001b[0;32m    158\u001b[0m \u001b[38;5;124;03m    \"\"\"\u001b[39;00m\n\u001b[1;32m--> 159\u001b[0m     response \u001b[38;5;241m=\u001b[39m \u001b[38;5;28;43mself\u001b[39;49m\u001b[38;5;241;43m.\u001b[39;49m\u001b[43msheet\u001b[49m\u001b[38;5;241;43m.\u001b[39;49m\u001b[43mget\u001b[49m\u001b[43m(\u001b[49m\u001b[43mkey\u001b[49m\u001b[43m,\u001b[49m\n\u001b[0;32m    160\u001b[0m \u001b[43m                              \u001b[49m\u001b[43mfields\u001b[49m\u001b[38;5;241;43m=\u001b[39;49m\u001b[38;5;124;43m'\u001b[39;49m\u001b[38;5;124;43mproperties,sheets/properties,spreadsheetId,namedRanges\u001b[39;49m\u001b[38;5;124;43m'\u001b[39;49m\u001b[43m,\u001b[49m\n\u001b[0;32m    161\u001b[0m \u001b[43m                              \u001b[49m\u001b[43mincludeGridData\u001b[49m\u001b[38;5;241;43m=\u001b[39;49m\u001b[38;5;28;43;01mFalse\u001b[39;49;00m\u001b[43m)\u001b[49m\n\u001b[0;32m    162\u001b[0m     \u001b[38;5;28;01mreturn\u001b[39;00m \u001b[38;5;28mself\u001b[39m\u001b[38;5;241m.\u001b[39mspreadsheet_cls(\u001b[38;5;28mself\u001b[39m, response)\n",
      "File \u001b[1;32mc:\\Users\\kienv\\AppData\\Local\\Programs\\Python\\Python310\\lib\\site-packages\\pygsheets\\sheet.py:164\u001b[0m, in \u001b[0;36mSheetAPIWrapper.get\u001b[1;34m(self, spreadsheet_id, **kwargs)\u001b[0m\n\u001b[0;32m    162\u001b[0m \u001b[38;5;28;01mif\u001b[39;00m \u001b[38;5;124m'\u001b[39m\u001b[38;5;124mincludeGridData\u001b[39m\u001b[38;5;124m'\u001b[39m \u001b[38;5;129;01mnot\u001b[39;00m \u001b[38;5;129;01min\u001b[39;00m kwargs:\n\u001b[0;32m    163\u001b[0m     kwargs[\u001b[38;5;124m'\u001b[39m\u001b[38;5;124mincludeGridData\u001b[39m\u001b[38;5;124m'\u001b[39m] \u001b[38;5;241m=\u001b[39m \u001b[38;5;28;01mTrue\u001b[39;00m\n\u001b[1;32m--> 164\u001b[0m \u001b[38;5;28;01mreturn\u001b[39;00m \u001b[38;5;28;43mself\u001b[39;49m\u001b[38;5;241;43m.\u001b[39;49m\u001b[43m_execute_requests\u001b[49m\u001b[43m(\u001b[49m\u001b[38;5;28;43mself\u001b[39;49m\u001b[38;5;241;43m.\u001b[39;49m\u001b[43mservice\u001b[49m\u001b[38;5;241;43m.\u001b[39;49m\u001b[43mspreadsheets\u001b[49m\u001b[43m(\u001b[49m\u001b[43m)\u001b[49m\u001b[38;5;241;43m.\u001b[39;49m\u001b[43mget\u001b[49m\u001b[43m(\u001b[49m\u001b[43mspreadsheetId\u001b[49m\u001b[38;5;241;43m=\u001b[39;49m\u001b[43mspreadsheet_id\u001b[49m\u001b[43m,\u001b[49m\u001b[43m \u001b[49m\u001b[38;5;241;43m*\u001b[39;49m\u001b[38;5;241;43m*\u001b[39;49m\u001b[43mkwargs\u001b[49m\u001b[43m)\u001b[49m\u001b[43m)\u001b[49m\n",
      "File \u001b[1;32mc:\\Users\\kienv\\AppData\\Local\\Programs\\Python\\Python310\\lib\\site-packages\\pygsheets\\sheet.py:495\u001b[0m, in \u001b[0;36mSheetAPIWrapper._execute_requests\u001b[1;34m(self, request)\u001b[0m\n\u001b[0;32m    487\u001b[0m \u001b[38;5;124;03m\"\"\"Execute a request to the Google Sheets API v4.\u001b[39;00m\n\u001b[0;32m    488\u001b[0m \n\u001b[0;32m    489\u001b[0m \u001b[38;5;124;03mWhen the API returns a 429 Error will sleep for the specified time and try again.\u001b[39;00m\n\u001b[1;32m   (...)\u001b[0m\n\u001b[0;32m    492\u001b[0m \u001b[38;5;124;03m:return:            Response\u001b[39;00m\n\u001b[0;32m    493\u001b[0m \u001b[38;5;124;03m\"\"\"\u001b[39;00m\n\u001b[0;32m    494\u001b[0m \u001b[38;5;28;01mtry\u001b[39;00m:\n\u001b[1;32m--> 495\u001b[0m     response \u001b[38;5;241m=\u001b[39m \u001b[43mrequest\u001b[49m\u001b[38;5;241;43m.\u001b[39;49m\u001b[43mexecute\u001b[49m\u001b[43m(\u001b[49m\u001b[43mnum_retries\u001b[49m\u001b[38;5;241;43m=\u001b[39;49m\u001b[38;5;28;43mself\u001b[39;49m\u001b[38;5;241;43m.\u001b[39;49m\u001b[43mretries\u001b[49m\u001b[43m)\u001b[49m\n\u001b[0;32m    496\u001b[0m \u001b[38;5;28;01mexcept\u001b[39;00m HttpError \u001b[38;5;28;01mas\u001b[39;00m error:\n\u001b[0;32m    497\u001b[0m     \u001b[38;5;28;01mif\u001b[39;00m error\u001b[38;5;241m.\u001b[39mresp[\u001b[38;5;124m'\u001b[39m\u001b[38;5;124mstatus\u001b[39m\u001b[38;5;124m'\u001b[39m] \u001b[38;5;241m==\u001b[39m \u001b[38;5;124m'\u001b[39m\u001b[38;5;124m429\u001b[39m\u001b[38;5;124m'\u001b[39m \u001b[38;5;129;01mand\u001b[39;00m \u001b[38;5;28mself\u001b[39m\u001b[38;5;241m.\u001b[39mcheck:\n",
      "File \u001b[1;32mc:\\Users\\kienv\\AppData\\Local\\Programs\\Python\\Python310\\lib\\site-packages\\googleapiclient\\_helpers.py:130\u001b[0m, in \u001b[0;36mpositional.<locals>.positional_decorator.<locals>.positional_wrapper\u001b[1;34m(*args, **kwargs)\u001b[0m\n\u001b[0;32m    128\u001b[0m     \u001b[38;5;28;01melif\u001b[39;00m positional_parameters_enforcement \u001b[38;5;241m==\u001b[39m POSITIONAL_WARNING:\n\u001b[0;32m    129\u001b[0m         logger\u001b[38;5;241m.\u001b[39mwarning(message)\n\u001b[1;32m--> 130\u001b[0m \u001b[38;5;28;01mreturn\u001b[39;00m wrapped(\u001b[38;5;241m*\u001b[39margs, \u001b[38;5;241m*\u001b[39m\u001b[38;5;241m*\u001b[39mkwargs)\n",
      "File \u001b[1;32mc:\\Users\\kienv\\AppData\\Local\\Programs\\Python\\Python310\\lib\\site-packages\\googleapiclient\\http.py:923\u001b[0m, in \u001b[0;36mHttpRequest.execute\u001b[1;34m(self, http, num_retries)\u001b[0m\n\u001b[0;32m    920\u001b[0m     \u001b[38;5;28mself\u001b[39m\u001b[38;5;241m.\u001b[39mheaders[\u001b[38;5;124m\"\u001b[39m\u001b[38;5;124mcontent-length\u001b[39m\u001b[38;5;124m\"\u001b[39m] \u001b[38;5;241m=\u001b[39m \u001b[38;5;28mstr\u001b[39m(\u001b[38;5;28mlen\u001b[39m(\u001b[38;5;28mself\u001b[39m\u001b[38;5;241m.\u001b[39mbody))\n\u001b[0;32m    922\u001b[0m \u001b[38;5;66;03m# Handle retries for server-side errors.\u001b[39;00m\n\u001b[1;32m--> 923\u001b[0m resp, content \u001b[38;5;241m=\u001b[39m \u001b[43m_retry_request\u001b[49m\u001b[43m(\u001b[49m\n\u001b[0;32m    924\u001b[0m \u001b[43m    \u001b[49m\u001b[43mhttp\u001b[49m\u001b[43m,\u001b[49m\n\u001b[0;32m    925\u001b[0m \u001b[43m    \u001b[49m\u001b[43mnum_retries\u001b[49m\u001b[43m,\u001b[49m\n\u001b[0;32m    926\u001b[0m \u001b[43m    \u001b[49m\u001b[38;5;124;43m\"\u001b[39;49m\u001b[38;5;124;43mrequest\u001b[39;49m\u001b[38;5;124;43m\"\u001b[39;49m\u001b[43m,\u001b[49m\n\u001b[0;32m    927\u001b[0m \u001b[43m    \u001b[49m\u001b[38;5;28;43mself\u001b[39;49m\u001b[38;5;241;43m.\u001b[39;49m\u001b[43m_sleep\u001b[49m\u001b[43m,\u001b[49m\n\u001b[0;32m    928\u001b[0m \u001b[43m    \u001b[49m\u001b[38;5;28;43mself\u001b[39;49m\u001b[38;5;241;43m.\u001b[39;49m\u001b[43m_rand\u001b[49m\u001b[43m,\u001b[49m\n\u001b[0;32m    929\u001b[0m \u001b[43m    \u001b[49m\u001b[38;5;28;43mstr\u001b[39;49m\u001b[43m(\u001b[49m\u001b[38;5;28;43mself\u001b[39;49m\u001b[38;5;241;43m.\u001b[39;49m\u001b[43muri\u001b[49m\u001b[43m)\u001b[49m\u001b[43m,\u001b[49m\n\u001b[0;32m    930\u001b[0m \u001b[43m    \u001b[49m\u001b[43mmethod\u001b[49m\u001b[38;5;241;43m=\u001b[39;49m\u001b[38;5;28;43mstr\u001b[39;49m\u001b[43m(\u001b[49m\u001b[38;5;28;43mself\u001b[39;49m\u001b[38;5;241;43m.\u001b[39;49m\u001b[43mmethod\u001b[49m\u001b[43m)\u001b[49m\u001b[43m,\u001b[49m\n\u001b[0;32m    931\u001b[0m \u001b[43m    \u001b[49m\u001b[43mbody\u001b[49m\u001b[38;5;241;43m=\u001b[39;49m\u001b[38;5;28;43mself\u001b[39;49m\u001b[38;5;241;43m.\u001b[39;49m\u001b[43mbody\u001b[49m\u001b[43m,\u001b[49m\n\u001b[0;32m    932\u001b[0m \u001b[43m    \u001b[49m\u001b[43mheaders\u001b[49m\u001b[38;5;241;43m=\u001b[39;49m\u001b[38;5;28;43mself\u001b[39;49m\u001b[38;5;241;43m.\u001b[39;49m\u001b[43mheaders\u001b[49m\u001b[43m,\u001b[49m\n\u001b[0;32m    933\u001b[0m \u001b[43m\u001b[49m\u001b[43m)\u001b[49m\n\u001b[0;32m    935\u001b[0m \u001b[38;5;28;01mfor\u001b[39;00m callback \u001b[38;5;129;01min\u001b[39;00m \u001b[38;5;28mself\u001b[39m\u001b[38;5;241m.\u001b[39mresponse_callbacks:\n\u001b[0;32m    936\u001b[0m     callback(resp)\n",
      "File \u001b[1;32mc:\\Users\\kienv\\AppData\\Local\\Programs\\Python\\Python310\\lib\\site-packages\\googleapiclient\\http.py:191\u001b[0m, in \u001b[0;36m_retry_request\u001b[1;34m(http, num_retries, req_type, sleep, rand, uri, method, *args, **kwargs)\u001b[0m\n\u001b[0;32m    189\u001b[0m \u001b[38;5;28;01mtry\u001b[39;00m:\n\u001b[0;32m    190\u001b[0m     exception \u001b[38;5;241m=\u001b[39m \u001b[38;5;28;01mNone\u001b[39;00m\n\u001b[1;32m--> 191\u001b[0m     resp, content \u001b[38;5;241m=\u001b[39m http\u001b[38;5;241m.\u001b[39mrequest(uri, method, \u001b[38;5;241m*\u001b[39margs, \u001b[38;5;241m*\u001b[39m\u001b[38;5;241m*\u001b[39mkwargs)\n\u001b[0;32m    192\u001b[0m \u001b[38;5;66;03m# Retry on SSL errors and socket timeout errors.\u001b[39;00m\n\u001b[0;32m    193\u001b[0m \u001b[38;5;28;01mexcept\u001b[39;00m _ssl_SSLError \u001b[38;5;28;01mas\u001b[39;00m ssl_error:\n",
      "File \u001b[1;32mc:\\Users\\kienv\\AppData\\Local\\Programs\\Python\\Python310\\lib\\site-packages\\google_auth_httplib2.py:209\u001b[0m, in \u001b[0;36mAuthorizedHttp.request\u001b[1;34m(self, uri, method, body, headers, redirections, connection_type, **kwargs)\u001b[0m\n\u001b[0;32m    205\u001b[0m \u001b[38;5;66;03m# Make a copy of the headers. They will be modified by the credentials\u001b[39;00m\n\u001b[0;32m    206\u001b[0m \u001b[38;5;66;03m# and we want to pass the original headers if we recurse.\u001b[39;00m\n\u001b[0;32m    207\u001b[0m request_headers \u001b[38;5;241m=\u001b[39m headers\u001b[38;5;241m.\u001b[39mcopy() \u001b[38;5;28;01mif\u001b[39;00m headers \u001b[38;5;129;01mis\u001b[39;00m \u001b[38;5;129;01mnot\u001b[39;00m \u001b[38;5;28;01mNone\u001b[39;00m \u001b[38;5;28;01melse\u001b[39;00m {}\n\u001b[1;32m--> 209\u001b[0m \u001b[38;5;28;43mself\u001b[39;49m\u001b[38;5;241;43m.\u001b[39;49m\u001b[43mcredentials\u001b[49m\u001b[38;5;241;43m.\u001b[39;49m\u001b[43mbefore_request\u001b[49m\u001b[43m(\u001b[49m\u001b[38;5;28;43mself\u001b[39;49m\u001b[38;5;241;43m.\u001b[39;49m\u001b[43m_request\u001b[49m\u001b[43m,\u001b[49m\u001b[43m \u001b[49m\u001b[43mmethod\u001b[49m\u001b[43m,\u001b[49m\u001b[43m \u001b[49m\u001b[43muri\u001b[49m\u001b[43m,\u001b[49m\u001b[43m \u001b[49m\u001b[43mrequest_headers\u001b[49m\u001b[43m)\u001b[49m\n\u001b[0;32m    211\u001b[0m \u001b[38;5;66;03m# Check if the body is a file-like stream, and if so, save the body\u001b[39;00m\n\u001b[0;32m    212\u001b[0m \u001b[38;5;66;03m# stream position so that it can be restored in case of refresh.\u001b[39;00m\n\u001b[0;32m    213\u001b[0m body_stream_position \u001b[38;5;241m=\u001b[39m \u001b[38;5;28;01mNone\u001b[39;00m\n",
      "File \u001b[1;32mc:\\Users\\kienv\\AppData\\Local\\Programs\\Python\\Python310\\lib\\site-packages\\google\\auth\\credentials.py:135\u001b[0m, in \u001b[0;36mCredentials.before_request\u001b[1;34m(self, request, method, url, headers)\u001b[0m\n\u001b[0;32m    131\u001b[0m \u001b[38;5;66;03m# pylint: disable=unused-argument\u001b[39;00m\n\u001b[0;32m    132\u001b[0m \u001b[38;5;66;03m# (Subclasses may use these arguments to ascertain information about\u001b[39;00m\n\u001b[0;32m    133\u001b[0m \u001b[38;5;66;03m# the http request.)\u001b[39;00m\n\u001b[0;32m    134\u001b[0m \u001b[38;5;28;01mif\u001b[39;00m \u001b[38;5;129;01mnot\u001b[39;00m \u001b[38;5;28mself\u001b[39m\u001b[38;5;241m.\u001b[39mvalid:\n\u001b[1;32m--> 135\u001b[0m     \u001b[38;5;28;43mself\u001b[39;49m\u001b[38;5;241;43m.\u001b[39;49m\u001b[43mrefresh\u001b[49m\u001b[43m(\u001b[49m\u001b[43mrequest\u001b[49m\u001b[43m)\u001b[49m\n\u001b[0;32m    136\u001b[0m \u001b[38;5;28mself\u001b[39m\u001b[38;5;241m.\u001b[39mapply(headers)\n",
      "File \u001b[1;32mc:\\Users\\kienv\\AppData\\Local\\Programs\\Python\\Python310\\lib\\site-packages\\google\\oauth2\\service_account.py:429\u001b[0m, in \u001b[0;36mCredentials.refresh\u001b[1;34m(self, request)\u001b[0m\n\u001b[0;32m    427\u001b[0m \u001b[38;5;28;01melse\u001b[39;00m:\n\u001b[0;32m    428\u001b[0m     assertion \u001b[38;5;241m=\u001b[39m \u001b[38;5;28mself\u001b[39m\u001b[38;5;241m.\u001b[39m_make_authorization_grant_assertion()\n\u001b[1;32m--> 429\u001b[0m     access_token, expiry, _ \u001b[38;5;241m=\u001b[39m \u001b[43m_client\u001b[49m\u001b[38;5;241;43m.\u001b[39;49m\u001b[43mjwt_grant\u001b[49m\u001b[43m(\u001b[49m\n\u001b[0;32m    430\u001b[0m \u001b[43m        \u001b[49m\u001b[43mrequest\u001b[49m\u001b[43m,\u001b[49m\u001b[43m \u001b[49m\u001b[38;5;28;43mself\u001b[39;49m\u001b[38;5;241;43m.\u001b[39;49m\u001b[43m_token_uri\u001b[49m\u001b[43m,\u001b[49m\u001b[43m \u001b[49m\u001b[43massertion\u001b[49m\n\u001b[0;32m    431\u001b[0m \u001b[43m    \u001b[49m\u001b[43m)\u001b[49m\n\u001b[0;32m    432\u001b[0m     \u001b[38;5;28mself\u001b[39m\u001b[38;5;241m.\u001b[39mtoken \u001b[38;5;241m=\u001b[39m access_token\n\u001b[0;32m    433\u001b[0m     \u001b[38;5;28mself\u001b[39m\u001b[38;5;241m.\u001b[39mexpiry \u001b[38;5;241m=\u001b[39m expiry\n",
      "File \u001b[1;32mc:\\Users\\kienv\\AppData\\Local\\Programs\\Python\\Python310\\lib\\site-packages\\google\\oauth2\\_client.py:303\u001b[0m, in \u001b[0;36mjwt_grant\u001b[1;34m(request, token_uri, assertion, can_retry)\u001b[0m\n\u001b[0;32m    279\u001b[0m \u001b[38;5;124;03m\"\"\"Implements the JWT Profile for OAuth 2.0 Authorization Grants.\u001b[39;00m\n\u001b[0;32m    280\u001b[0m \n\u001b[0;32m    281\u001b[0m \u001b[38;5;124;03mFor more details, see `rfc7523 section 4`_.\u001b[39;00m\n\u001b[1;32m   (...)\u001b[0m\n\u001b[0;32m    299\u001b[0m \u001b[38;5;124;03m.. _rfc7523 section 4: https://tools.ietf.org/html/rfc7523#section-4\u001b[39;00m\n\u001b[0;32m    300\u001b[0m \u001b[38;5;124;03m\"\"\"\u001b[39;00m\n\u001b[0;32m    301\u001b[0m body \u001b[38;5;241m=\u001b[39m {\u001b[38;5;124m\"\u001b[39m\u001b[38;5;124massertion\u001b[39m\u001b[38;5;124m\"\u001b[39m: assertion, \u001b[38;5;124m\"\u001b[39m\u001b[38;5;124mgrant_type\u001b[39m\u001b[38;5;124m\"\u001b[39m: _JWT_GRANT_TYPE}\n\u001b[1;32m--> 303\u001b[0m response_data \u001b[38;5;241m=\u001b[39m \u001b[43m_token_endpoint_request\u001b[49m\u001b[43m(\u001b[49m\n\u001b[0;32m    304\u001b[0m \u001b[43m    \u001b[49m\u001b[43mrequest\u001b[49m\u001b[43m,\u001b[49m\u001b[43m \u001b[49m\u001b[43mtoken_uri\u001b[49m\u001b[43m,\u001b[49m\u001b[43m \u001b[49m\u001b[43mbody\u001b[49m\u001b[43m,\u001b[49m\u001b[43m \u001b[49m\u001b[43mcan_retry\u001b[49m\u001b[38;5;241;43m=\u001b[39;49m\u001b[43mcan_retry\u001b[49m\n\u001b[0;32m    305\u001b[0m \u001b[43m\u001b[49m\u001b[43m)\u001b[49m\n\u001b[0;32m    307\u001b[0m \u001b[38;5;28;01mtry\u001b[39;00m:\n\u001b[0;32m    308\u001b[0m     access_token \u001b[38;5;241m=\u001b[39m response_data[\u001b[38;5;124m\"\u001b[39m\u001b[38;5;124maccess_token\u001b[39m\u001b[38;5;124m\"\u001b[39m]\n",
      "File \u001b[1;32mc:\\Users\\kienv\\AppData\\Local\\Programs\\Python\\Python310\\lib\\site-packages\\google\\oauth2\\_client.py:274\u001b[0m, in \u001b[0;36m_token_endpoint_request\u001b[1;34m(request, token_uri, body, access_token, use_json, can_retry, **kwargs)\u001b[0m\n\u001b[0;32m    264\u001b[0m response_status_ok, response_data, retryable_error \u001b[38;5;241m=\u001b[39m _token_endpoint_request_no_throw(\n\u001b[0;32m    265\u001b[0m     request,\n\u001b[0;32m    266\u001b[0m     token_uri,\n\u001b[1;32m   (...)\u001b[0m\n\u001b[0;32m    271\u001b[0m     \u001b[38;5;241m*\u001b[39m\u001b[38;5;241m*\u001b[39mkwargs\n\u001b[0;32m    272\u001b[0m )\n\u001b[0;32m    273\u001b[0m \u001b[38;5;28;01mif\u001b[39;00m \u001b[38;5;129;01mnot\u001b[39;00m response_status_ok:\n\u001b[1;32m--> 274\u001b[0m     \u001b[43m_handle_error_response\u001b[49m\u001b[43m(\u001b[49m\u001b[43mresponse_data\u001b[49m\u001b[43m,\u001b[49m\u001b[43m \u001b[49m\u001b[43mretryable_error\u001b[49m\u001b[43m)\u001b[49m\n\u001b[0;32m    275\u001b[0m \u001b[38;5;28;01mreturn\u001b[39;00m response_data\n",
      "File \u001b[1;32mc:\\Users\\kienv\\AppData\\Local\\Programs\\Python\\Python310\\lib\\site-packages\\google\\oauth2\\_client.py:73\u001b[0m, in \u001b[0;36m_handle_error_response\u001b[1;34m(response_data, retryable_error)\u001b[0m\n\u001b[0;32m     70\u001b[0m \u001b[38;5;28;01mexcept\u001b[39;00m (\u001b[38;5;167;01mKeyError\u001b[39;00m, \u001b[38;5;167;01mValueError\u001b[39;00m):\n\u001b[0;32m     71\u001b[0m     error_details \u001b[38;5;241m=\u001b[39m json\u001b[38;5;241m.\u001b[39mdumps(response_data)\n\u001b[1;32m---> 73\u001b[0m \u001b[38;5;28;01mraise\u001b[39;00m exceptions\u001b[38;5;241m.\u001b[39mRefreshError(\n\u001b[0;32m     74\u001b[0m     error_details, response_data, retryable\u001b[38;5;241m=\u001b[39mretryable_error\n\u001b[0;32m     75\u001b[0m )\n",
      "\u001b[1;31mRefreshError\u001b[0m: ('invalid_grant: Invalid JWT Signature.', {'error': 'invalid_grant', 'error_description': 'Invalid JWT Signature.'})"
     ]
    }
   ],
   "source": [
    "sheet_name='9/2024'\n",
    "# df3 = get_data(sheet_name=sheet_name, start='A4')\n",
    "\n",
    "spreadsheet_id = '1Bmm9GGP3QE5k_T8eODN3Hrh8ICzMgAazYkw0gWNRZDs'\n",
    "\n",
    "gc = pygsheets.authorize(service_file=sf_path)\n",
    "sh = gc.open_by_key(spreadsheet_id)\n",
    "wks = sh.worksheet_by_title(sheet_name)\n",
    "df = wks.get_as_df(start='A1', numerize=False, value_render='UNFORMATTED_VALUE', empty_value=None)\n"
   ]
  },
  {
   "cell_type": "code",
   "execution_count": null,
   "metadata": {},
   "outputs": [],
   "source": [
    "df"
   ]
  },
  {
   "cell_type": "code",
   "execution_count": null,
   "metadata": {},
   "outputs": [],
   "source": [
    "df = df.replace(to_replace='', value=None)\n",
    "# df.drop_duplicates(inplace=True)\n",
    "\n",
    "df2 = df.transpose()\n",
    "df2\n"
   ]
  },
  {
   "cell_type": "code",
   "execution_count": null,
   "metadata": {},
   "outputs": [],
   "source": [
    "df2.iloc[:,1] = df2.iloc[:,1].ffill()\n",
    "df3 = df2.transpose()\n",
    "# Combine the two lists\n",
    "combined_list = [f\"{a}|{b}\" for a, b in zip(df3.iloc[1].to_list(), df3.iloc[2].to_list())]\n",
    "df3.columns = combined_list"
   ]
  },
  {
   "cell_type": "code",
   "execution_count": null,
   "metadata": {},
   "outputs": [],
   "source": [
    "df3"
   ]
  },
  {
   "cell_type": "code",
   "execution_count": null,
   "metadata": {},
   "outputs": [],
   "source": [
    "df_daily = extract_daily(df3, sheet_name)\n",
    "df_target = extract_target(df3, sheet_name)"
   ]
  },
  {
   "cell_type": "code",
   "execution_count": null,
   "metadata": {},
   "outputs": [],
   "source": [
    "df_daily.query(\"user=='Kiên Trần'\")"
   ]
  },
  {
   "cell_type": "code",
   "execution_count": null,
   "metadata": {},
   "outputs": [],
   "source": [
    "start_of_month = df_target.loc[0,'report_month']\n",
    "num_days = start_of_month.days_in_month\n",
    "\n",
    "# Create a date range for each day of the month\n",
    "date_range = pd.date_range(start_of_month, periods=num_days, freq='D')\n",
    "df_target['report_date'] = [date_range]*len(df_target)\n",
    "df_target = df_target.explode('report_date')\n",
    "df_target['report_day'] = df_target['report_date'].dt.day\n",
    "df_target['no_of_day'] = num_days\n",
    "df_target['Daily'] = df_target['Daily'].astype(int)\n",
    "\n",
    "df_target['Target'] = df_target['Target'].astype(int)\n",
    "df_target['daily_target_norm'] =  df_target['Target']/df_target[\"no_of_day\"]\n",
    "df_target['mtd_target_norm'] = df_target['daily_target_norm'] * df_target['report_day']\n"
   ]
  },
  {
   "cell_type": "code",
   "execution_count": null,
   "metadata": {},
   "outputs": [],
   "source": [
    "dta = df_target.merge(df_daily, how='left', on=['user','report_date'])\n",
    "dta['Total'] = dta['Total'].fillna(0)\n"
   ]
  },
  {
   "cell_type": "code",
   "execution_count": null,
   "metadata": {},
   "outputs": [],
   "source": [
    "dta"
   ]
  },
  {
   "cell_type": "code",
   "execution_count": null,
   "metadata": {},
   "outputs": [],
   "source": [
    "dta['Total'] = pd.to_numeric(dta['Total'], errors='coerce')"
   ]
  },
  {
   "cell_type": "code",
   "execution_count": null,
   "metadata": {},
   "outputs": [],
   "source": [
    "dta['mtd_actual'] = dta.sort_values(by=['user', 'report_date']).groupby(['user'])['Total'].cumsum()\n",
    "# dta.sort_values(by=['user', 'report_date']).groupby(['user'])['Total'].sum()\n"
   ]
  },
  {
   "cell_type": "code",
   "execution_count": null,
   "metadata": {},
   "outputs": [],
   "source": [
    "dta.query(\"user=='Kiên Trần'\")"
   ]
  },
  {
   "cell_type": "code",
   "execution_count": null,
   "metadata": {},
   "outputs": [],
   "source": [
    "dta['flg_daily']  = 0\n",
    "flt = dta['Total'] >= dta['Daily']\n",
    "dta.loc[flt, 'flg_daily'] = 1\n",
    "dta['mtd_daily'] = dta.sort_values(by=['user', 'report_date']).groupby(['user'])['flg_daily'].cumsum()\n"
   ]
  },
  {
   "cell_type": "code",
   "execution_count": null,
   "metadata": {},
   "outputs": [],
   "source": [
    "dta.columns"
   ]
  },
  {
   "cell_type": "code",
   "execution_count": null,
   "metadata": {},
   "outputs": [],
   "source": [
    "for col in ['Burpee', 'Core','Pushup', 'Run', 'Squat']:\n",
    "    dta[col] = pd.to_numeric(dta[col], errors='coerce')"
   ]
  },
  {
   "cell_type": "code",
   "execution_count": null,
   "metadata": {},
   "outputs": [],
   "source": [
    "dta['mtd_burpee'] = dta.sort_values(by=['user', 'report_date']).groupby(['user'])['Burpee'].cumsum()\n",
    "dta['mtd_core'] = dta.sort_values(by=['user', 'report_date']).groupby(['user'])['Core'].cumsum()\n",
    "dta['mtd_pushup'] = dta.sort_values(by=['user', 'report_date']).groupby(['user'])['Pushup'].cumsum()\n",
    "dta['mtd_run'] = dta.sort_values(by=['user', 'report_date']).groupby(['user'])['Run'].cumsum()\n",
    "dta['mtd_squat'] = dta.sort_values(by=['user', 'report_date']).groupby(['user'])['Squat'].cumsum()"
   ]
  },
  {
   "cell_type": "code",
   "execution_count": null,
   "metadata": {},
   "outputs": [],
   "source": [
    "dta.to_parquet(rf\".\\data\\daily\\dta_{str(sheet_name).replace('/', '-')}.parquet\", index=False )\n",
    "print(sheet_name)"
   ]
  },
  {
   "cell_type": "code",
   "execution_count": null,
   "metadata": {},
   "outputs": [],
   "source": [
    "df_target"
   ]
  },
  {
   "cell_type": "code",
   "execution_count": null,
   "metadata": {},
   "outputs": [],
   "source": [
    "df_daily['user'].value_counts()"
   ]
  },
  {
   "cell_type": "code",
   "execution_count": null,
   "metadata": {},
   "outputs": [],
   "source": [
    "df_daily.query(\"user=='An'\")"
   ]
  },
  {
   "cell_type": "code",
   "execution_count": null,
   "metadata": {},
   "outputs": [],
   "source": [
    "df= pd.read_parquet('data\\daily\\dta_8-2024.parquet')"
   ]
  },
  {
   "cell_type": "code",
   "execution_count": null,
   "metadata": {},
   "outputs": [],
   "source": [
    "df"
   ]
  },
  {
   "cell_type": "code",
   "execution_count": null,
   "metadata": {},
   "outputs": [],
   "source": [
    "df.query(\"report_date=='2023-12-31'\")"
   ]
  },
  {
   "cell_type": "code",
   "execution_count": null,
   "metadata": {},
   "outputs": [],
   "source": [
    "import plotly.express as px"
   ]
  },
  {
   "cell_type": "code",
   "execution_count": null,
   "metadata": {},
   "outputs": [],
   "source": [
    "dta_chart = dta.query(\"report_date=='2024-09-05'\")"
   ]
  },
  {
   "cell_type": "code",
   "execution_count": null,
   "metadata": {},
   "outputs": [],
   "source": [
    "dta_chart.info()"
   ]
  },
  {
   "cell_type": "code",
   "execution_count": null,
   "metadata": {},
   "outputs": [],
   "source": [
    "import plotly.graph_objects as go\n",
    "\n",
    "# Parameters\n",
    "total_amount = 1000  # Total target\n",
    "current_value = 1100  # Current value\n",
    "\n",
    "# Calculate percentage completion\n",
    "percentage_complete = (current_value / total_amount) * 100\n",
    "\n",
    "# Create the gauge chart\n",
    "fig = go.Figure(go.Indicator(\n",
    "    mode=\"gauge+number+delta\",  # Shows the gauge, number, and delta (difference from total)\n",
    "    value=current_value,  # Absolute value (current amount)\n",
    "    number={'valueformat': ',.0f'},  # Display the absolute value without decimal points\n",
    "    delta={'reference': total_amount, 'position': \"top\", 'increasing': {'color': \"green\"}},  # Show difference from total\n",
    "    gauge={\n",
    "        'axis': {'range': [0, total_amount]},  # Set the range from 0 to the total\n",
    "        'bar': {'color': \"blue\"},  # Color of the gauge bar\n",
    "        'steps': [\n",
    "            {'range': [0, total_amount * 0.5], 'color': \"#ff4545\"},  # Colors for ranges\n",
    "            {'range': [total_amount * 0.5, total_amount*0.75], 'color': \"#fffc45\"}\n",
    "        ],\n",
    "        'threshold': {\n",
    "            'line': {'color': \"red\", 'width': 4},\n",
    "            'thickness': 0.75,\n",
    "            'value': total_amount  # Mark the total with a threshold line\n",
    "        }\n",
    "    }\n",
    "))\n",
    "\n",
    "# Add annotation for percentage on a new line\n",
    "fig.add_annotation(\n",
    "    x=0.5, y=-0.1,  # Position the annotation\n",
    "    text=f\"({percentage_complete:.0f}%)\",  # Display the percentage\n",
    "    showarrow=False,\n",
    "    font={'size': 20},\n",
    "    xanchor=\"center\",\n",
    "    yanchor=\"bottom\"\n",
    ")\n",
    "\n",
    "# Update layout to customize appearance\n",
    "fig.update_layout(\n",
    "    title={'text': \"Sales Target Progress\", 'x': 0.5},  # Title and center it\n",
    "    height=400\n",
    ")\n",
    "\n",
    "# Display the chart\n",
    "fig.show()\n"
   ]
  },
  {
   "cell_type": "code",
   "execution_count": null,
   "metadata": {},
   "outputs": [],
   "source": [
    "dta_chart.columns"
   ]
  },
  {
   "cell_type": "code",
   "execution_count": null,
   "metadata": {},
   "outputs": [],
   "source": [
    "import plotly_express as px"
   ]
  },
  {
   "cell_type": "code",
   "execution_count": null,
   "metadata": {},
   "outputs": [],
   "source": [
    "import pandas as pd\n",
    "import plotly.graph_objects as go\n"
   ]
  },
  {
   "cell_type": "code",
   "execution_count": null,
   "metadata": {},
   "outputs": [],
   "source": [
    "\n"
   ]
  },
  {
   "cell_type": "code",
   "execution_count": null,
   "metadata": {},
   "outputs": [],
   "source": [
    "df= pd.read_parquet('data\\daily\\dta_9-2024.parquet')\n",
    "# Pivoting the dataframe\n",
    "heatmap_data = df.pivot(index='user', columns='report_date', values='flg_workout')\n",
    "heatmap_data\n",
    "# Create the heatmap\n",
    "fig = go.Figure(data=go.Heatmap(\n",
    "    z=heatmap_data.values,\n",
    "    x=heatmap_data.columns,\n",
    "    y=heatmap_data.index,\n",
    "    colorscale='Greens',\n",
    "    hoverongaps=False,\n",
    "    xgap=2,  # Horizontal gap between the cells\n",
    "    ygap=2,   # Vertical gap between the cells\n",
    "    # colorscale=[[0, 'white'], [1, 'green']],  # Color scale from white to green\n",
    "    showscale=False  # Display the color scale\n",
    "))\n",
    "\n",
    "# Update layout\n",
    "fig.update_layout(\n",
    "    # xaxis_title='Date',\n",
    "    # yaxis_title='User',\n",
    "    title='Workout Heatmap',\n",
    "    # xaxis=dict(showgrid=True),\n",
    "    # yaxis=dict(showgrid=True)\n",
    ")\n",
    "\n",
    "# Display the heatmap\n",
    "fig.show()\n"
   ]
  },
  {
   "cell_type": "code",
   "execution_count": null,
   "metadata": {},
   "outputs": [],
   "source": [
    "df= pd.read_parquet('data\\daily\\dta_8-2024.parquet')\n"
   ]
  },
  {
   "cell_type": "code",
   "execution_count": null,
   "metadata": {},
   "outputs": [],
   "source": [
    "df.head()"
   ]
  },
  {
   "cell_type": "code",
   "execution_count": null,
   "metadata": {},
   "outputs": [],
   "source": [
    "import pandas as pd\n",
    "import plotly.graph_objects as go\n",
    "\n",
    "# Sample dataframe representing workout data\n",
    "data = {\n",
    "    'report_date': pd.date_range(start='2024-09-01', periods=10, freq='D').tolist() * 3,\n",
    "    'user': ['User A'] * 10 + ['User B'] * 10 + ['User C'] * 10,\n",
    "    'Total': [5, 7, 6, 9, 4, 8, 7, 10, 5, 0] * 3,  # Adding some 0 values for example\n",
    "    'burpee': [20, 15, 10, 25, 30, 15, 10, 5, 25, 20] * 3,\n",
    "    'run': [2.5, 3.0, 1.5, 4.0, 2.0, 3.5, 2.0, 4.5, 3.0, 3.5] * 3\n",
    "}\n",
    "\n",
    "df = pd.DataFrame(data)\n",
    "\n",
    "# Pivot data to get users on y-axis, report_date on x-axis, and Total as values\n",
    "heatmap_data = df.pivot(index='user', columns='report_date', values='Total')\n",
    "\n",
    "# Create custom hover text with burpee and run details, formatting the date\n",
    "hover_text = df.apply(lambda row: f\"Date: {row['report_date'].strftime('%Y-%m-%d')}<br>User: {row['user']}<br>Burpee: {row['burpee']}<br>Run: {row['run']}\", axis=1).values.reshape(heatmap_data.shape)\n",
    "\n",
    "# Create text array that replaces 0 with '-'\n",
    "text_data = heatmap_data.applymap(lambda x: '-' if x == 0 else f\"{x}\")\n",
    "\n",
    "# Create the heatmap with Plotly\n",
    "fig = go.Figure(data=go.Heatmap(\n",
    "    z=heatmap_data.values,\n",
    "    x=heatmap_data.columns,\n",
    "    y=heatmap_data.index,\n",
    "    colorscale='Blues',  # Customize the color scale\n",
    "    hoverinfo='text',  # Use custom hover info\n",
    "    hovertext=hover_text,  # Set the custom hover text\n",
    "    text=text_data.values,  # Show the 'Total' value or '-' in each cell\n",
    "    texttemplate=\"%{text}\",  # Show the custom text\n",
    "    textfont={\"size\": 12},  # Font size of the text in the cells\n",
    "    xgap=2,  # Add space between cells to simulate a border\n",
    "    ygap=2   # Add space between cells to simulate a border\n",
    "))\n",
    "\n",
    "# Customize the layout, including the black background and thinner margins\n",
    "fig.update_layout(\n",
    "    title=\"Workout Heatmap\",\n",
    "    xaxis_title=\"Date\",\n",
    "    yaxis_title=\"User\",\n",
    "    xaxis=dict(showgrid=False),  # Disable gridlines to only show the gap\n",
    "    yaxis=dict(showgrid=False),  # Disable gridlines to only show the gap\n",
    "    plot_bgcolor='black',  # Set the plot background color to black (for borders)\n",
    "    paper_bgcolor='white',  # Keep the paper background white\n",
    "    margin=dict(l=10, r=10, t=50, b=10),  # Adjust outer margins for thinner outer border\n",
    ")\n",
    "\n",
    "# Show the plot\n",
    "fig.show()\n"
   ]
  },
  {
   "cell_type": "code",
   "execution_count": null,
   "metadata": {},
   "outputs": [],
   "source": [
    "print(px.colors.sequential.Rainbow_r)"
   ]
  }
 ],
 "metadata": {
  "kernelspec": {
   "display_name": "Python 3",
   "language": "python",
   "name": "python3"
  },
  "language_info": {
   "codemirror_mode": {
    "name": "ipython",
    "version": 3
   },
   "file_extension": ".py",
   "mimetype": "text/x-python",
   "name": "python",
   "nbconvert_exporter": "python",
   "pygments_lexer": "ipython3",
   "version": "3.10.4"
  }
 },
 "nbformat": 4,
 "nbformat_minor": 2
}
