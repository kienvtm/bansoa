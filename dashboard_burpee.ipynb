{
 "cells": [
  {
   "cell_type": "code",
   "execution_count": 101,
   "metadata": {},
   "outputs": [],
   "source": [
    "import pygsheets\n",
    "from oauth2client.service_account import ServiceAccountCredentials\n",
    "from pathlib import Path"
   ]
  },
  {
   "cell_type": "code",
   "execution_count": 76,
   "metadata": {},
   "outputs": [],
   "source": [
    "import pandas as pd\n",
    "pd.options.display.max_columns = 0"
   ]
  },
  {
   "cell_type": "code",
   "execution_count": 4,
   "metadata": {},
   "outputs": [],
   "source": [
    "\n",
    "# Load the credentials from the JSON file (replace with the path to your file)\n",
    "sf_path = r'C:\\Users\\kien.tn\\burpee_dashboard\\inductive-gift-355101-87f774556af8.json'\n",
    "gc = pygsheets.authorize(service_account_file=sf_path)\n"
   ]
  },
  {
   "cell_type": "code",
   "execution_count": 10,
   "metadata": {},
   "outputs": [],
   "source": [
    "def get_number_gsheet(service_file_path, spreadsheet_id, sheet_name):\n",
    "    gc = pygsheets.authorize(service_file=service_file_path)\n",
    "    sh = gc.open_by_key(spreadsheet_id)\n",
    "    wks = sh.worksheet_by_title(sheet_name)\n",
    "    df = wks.get_as_df(\n",
    "        numerize=False, value_render='UNFORMATTED_VALUE', empty_value=None)\n",
    "    df = df.replace(to_replace='', value=None)\n",
    "\n",
    "    return df\n",
    "\n",
    "# %%\n",
    "# lay du lieu tu googhesheet ma khong co du lieu so\n",
    "\n",
    "\n",
    "def get_df_from_gsheet(service_file_path, spreadsheet_id, sheet_name, start=None):\n",
    "    gc = pygsheets.authorize(service_file=service_file_path)\n",
    "    sh = gc.open_by_key(spreadsheet_id)\n",
    "    wks = sh.worksheet_by_title(sheet_name)\n",
    "    df = wks.get_as_df(start, numerize=False, empty_value=None)\n",
    "    df = df.replace(to_replace='', value=None)\n",
    "    df.drop_duplicates(inplace=True)\n",
    "\n",
    "    return df"
   ]
  },
  {
   "cell_type": "code",
   "execution_count": 203,
   "metadata": {},
   "outputs": [],
   "source": [
    "spreadsheet_id = '1Bmm9GGP3QE5k_T8eODN3Hrh8ICzMgAazYkw0gWNRZDs'\n",
    "sheet_name = '9/2024'\n",
    "start='A4'\n",
    "gc = pygsheets.authorize(service_file=sf_path)\n",
    "sh = gc.open_by_key(spreadsheet_id)\n",
    "wks = sh.worksheet_by_title(sheet_name)\n",
    "df = wks.get_as_df(start, numerize=False, value_render='UNFORMATTED_VALUE', empty_value=None)\n",
    "df = df.replace(to_replace='', value=None)\n",
    "df.drop_duplicates(inplace=True)\n",
    "\n",
    "df2 = df.transpose()\n",
    "df2.iloc[:,1] = df2.iloc[:,1].ffill()\n",
    "df3 = df2.transpose()\n",
    "# Combine the two lists\n",
    "combined_list = [f\"{a}|{b}\" for a, b in zip(df3.iloc[1].to_list(), df3.iloc[2].to_list())]\n",
    "df3.columns = combined_list"
   ]
  },
  {
   "cell_type": "code",
   "execution_count": 204,
   "metadata": {},
   "outputs": [],
   "source": [
    "def extract_daily(df3, sheet_name):\n",
    "    df_daily = df3.iloc[10:,:]\n",
    "    df_daily2 = df_daily.melt(id_vars='None|None')\n",
    "    df_daily2[['user', 'criteria']] =df_daily2['variable'].str.split('|', expand=True)\n",
    "    df_daily2.rename(columns={'None|None':'report_date'}, inplace=True)\n",
    "    df_daily2.drop(columns='variable', inplace=True)\n",
    "    df_daily2.dropna(subset='value', inplace=True)\n",
    "    df_daily3 = df_daily2.query(\"value!=0\").pivot(columns='criteria', index=['user', 'report_date'], values='value').reset_index()\n",
    "    df_daily3['report_date'] = df_daily3['report_date'].astype('str') + '/' + sheet_name\n",
    "    df_daily3['report_date'] = pd.to_datetime(df_daily3['report_date'], format='%d/%m/%Y')\n",
    "    # df_daily3.to_parquet(rf\".\\data\\daily\\{str(sheet_name).replace('/', '-')}.parquet\", index=False )\n",
    "    return df_daily3"
   ]
  },
  {
   "cell_type": "code",
   "execution_count": 205,
   "metadata": {},
   "outputs": [],
   "source": [
    "def extract_target(df3, sheet_name):\n",
    "    df_target = df3.iloc[3:10]\n",
    "    df_target.rename(columns={\"None|None\":\"item\"}, inplace=True)\n",
    "    df_target.query(\"item.isin(['Target', 'Daily'])\", inplace=True)\n",
    "\n",
    "    df_target2 = df_target.melt(id_vars='item')\n",
    "    df_target2[['user', 'criteria']] =df_target2['variable'].str.split('|', expand=True)\n",
    "    # df_target2.rename(columns={'item':'report_date'}, inplace=True)\n",
    "    df_target2.drop(columns='variable', inplace=True)\n",
    "    df_target2.dropna(subset='value', inplace=True)\n",
    "\n",
    "    df_target2.drop_duplicates(subset=['item', 'user'], inplace=True)\n",
    "    df_target3 = df_target2.query(\"value!=0\").pivot(columns='item', index=['user'], values='value').reset_index()\n",
    "\n",
    "    df_target3['report_month'] = '01/' + sheet_name\n",
    "    df_target3['report_month'] = pd.to_datetime(df_target3['report_month'], format='%d/%m/%Y')\n",
    "    # df_target3.to_parquet(rf\".\\data\\target\\{str(sheet_name).replace('/', '-')}.parquet\", index=False )\n",
    "    return df_target3"
   ]
  },
  {
   "cell_type": "code",
   "execution_count": 206,
   "metadata": {},
   "outputs": [
    {
     "name": "stderr",
     "output_type": "stream",
     "text": [
      "C:\\Users\\kien.tn\\AppData\\Local\\Temp\\ipykernel_20320\\1832234757.py:3: SettingWithCopyWarning: \n",
      "A value is trying to be set on a copy of a slice from a DataFrame\n",
      "\n",
      "See the caveats in the documentation: https://pandas.pydata.org/pandas-docs/stable/user_guide/indexing.html#returning-a-view-versus-a-copy\n",
      "  df_target.rename(columns={\"None|None\":\"item\"}, inplace=True)\n",
      "C:\\Users\\kien.tn\\AppData\\Local\\Temp\\ipykernel_20320\\1832234757.py:4: SettingWithCopyWarning: \n",
      "A value is trying to be set on a copy of a slice from a DataFrame\n",
      "\n",
      "See the caveats in the documentation: https://pandas.pydata.org/pandas-docs/stable/user_guide/indexing.html#returning-a-view-versus-a-copy\n",
      "  df_target.query(\"item.isin(['Target', 'Daily'])\", inplace=True)\n"
     ]
    }
   ],
   "source": [
    "df_daily = extract_daily(df3, sheet_name)\n",
    "df_target = extract_target(df3, sheet_name)"
   ]
  },
  {
   "cell_type": "code",
   "execution_count": 216,
   "metadata": {},
   "outputs": [
    {
     "name": "stdout",
     "output_type": "stream",
     "text": [
      "<class 'pandas.core.frame.DataFrame'>\n",
      "Index: 390 entries, 0 to 12\n",
      "Data columns (total 9 columns):\n",
      " #   Column             Non-Null Count  Dtype         \n",
      "---  ------             --------------  -----         \n",
      " 0   user               390 non-null    object        \n",
      " 1   Daily              390 non-null    int32         \n",
      " 2   Target             390 non-null    int32         \n",
      " 3   report_month       390 non-null    datetime64[ns]\n",
      " 4   report_date        390 non-null    datetime64[ns]\n",
      " 5   report_day         390 non-null    int32         \n",
      " 6   no_of_day          390 non-null    int64         \n",
      " 7   daily_target_norm  390 non-null    float64       \n",
      " 8   mtd_target_norm    390 non-null    float64       \n",
      "dtypes: datetime64[ns](2), float64(2), int32(3), int64(1), object(1)\n",
      "memory usage: 25.9+ KB\n"
     ]
    }
   ],
   "source": [
    "df_target.info()"
   ]
  },
  {
   "cell_type": "code",
   "execution_count": 208,
   "metadata": {},
   "outputs": [],
   "source": [
    "# Get start of month and number of days in the month\n",
    "start_of_month = df_target.loc[0,'report_month']\n",
    "num_days = start_of_month.days_in_month\n",
    "\n",
    "# Create a date range for each day of the month\n",
    "date_range = pd.date_range(start_of_month, periods=num_days, freq='D')\n",
    "date_range\n",
    "df_target['report_date'] = [date_range]*len(df_target)\n",
    "df_target = df_target.explode('report_date')\n",
    "df_target['report_day'] = df_target['report_date'].dt.day\n",
    "df_target['no_of_day'] = num_days"
   ]
  },
  {
   "cell_type": "code",
   "execution_count": 209,
   "metadata": {},
   "outputs": [],
   "source": [
    "df_target['Daily'] = df_target['Daily'].astype(int)\n"
   ]
  },
  {
   "cell_type": "code",
   "execution_count": 210,
   "metadata": {},
   "outputs": [],
   "source": [
    "df_target['Target'] = df_target['Target'].astype(int)"
   ]
  },
  {
   "cell_type": "code",
   "execution_count": 213,
   "metadata": {},
   "outputs": [],
   "source": [
    "df_target['daily_target_norm'] =  df_target['Target']/df_target[\"no_of_day\"]"
   ]
  },
  {
   "cell_type": "code",
   "execution_count": 215,
   "metadata": {},
   "outputs": [],
   "source": [
    "df_target['mtd_target_norm'] = df_target['daily_target_norm'] * df_target['report_day']"
   ]
  },
  {
   "cell_type": "code",
   "execution_count": 219,
   "metadata": {},
   "outputs": [],
   "source": [
    "dta = df_target.merge(df_daily, how='left', on=['user','report_date'])"
   ]
  },
  {
   "cell_type": "code",
   "execution_count": 226,
   "metadata": {},
   "outputs": [],
   "source": [
    "dta['Total'] = dta['Total'].fillna(0)"
   ]
  },
  {
   "cell_type": "code",
   "execution_count": 230,
   "metadata": {},
   "outputs": [],
   "source": [
    "dta['mtd_actual'] = dta.sort_values(by=['user', 'report_date']).groupby(['user'])['Total'].cumsum()"
   ]
  },
  {
   "cell_type": "code",
   "execution_count": 234,
   "metadata": {},
   "outputs": [],
   "source": [
    "dta['flg_daily']  = 0\n",
    "flt = dta['Total'] >= dta['Daily']\n",
    "dta.loc[flt, 'flg_daily'] = 1"
   ]
  },
  {
   "cell_type": "code",
   "execution_count": 236,
   "metadata": {},
   "outputs": [],
   "source": [
    "dta['mtd_daily'] = dta.sort_values(by=['user', 'report_date']).groupby(['user'])['flg_daily'].cumsum()"
   ]
  },
  {
   "cell_type": "code",
   "execution_count": 240,
   "metadata": {},
   "outputs": [],
   "source": [
    "dta.to_parquet(rf\".\\data\\dta_{str(sheet_name).replace('/', '-')}.parquet\", index=False )"
   ]
  },
  {
   "cell_type": "code",
   "execution_count": 241,
   "metadata": {},
   "outputs": [],
   "source": [
    "import plotly.express as px"
   ]
  },
  {
   "cell_type": "code",
   "execution_count": 385,
   "metadata": {},
   "outputs": [],
   "source": [
    "dta_chart = dta.query(\"report_date=='2024-09-05'\")"
   ]
  },
  {
   "cell_type": "code",
   "execution_count": 352,
   "metadata": {},
   "outputs": [
    {
     "name": "stdout",
     "output_type": "stream",
     "text": [
      "<class 'pandas.core.frame.DataFrame'>\n",
      "Index: 13 entries, 4 to 364\n",
      "Data columns (total 18 columns):\n",
      " #   Column             Non-Null Count  Dtype         \n",
      "---  ------             --------------  -----         \n",
      " 0   user               13 non-null     object        \n",
      " 1   Daily              13 non-null     int32         \n",
      " 2   Target             13 non-null     int32         \n",
      " 3   report_month       13 non-null     datetime64[ns]\n",
      " 4   report_date        13 non-null     datetime64[ns]\n",
      " 5   report_day         13 non-null     int32         \n",
      " 6   no_of_day          13 non-null     int64         \n",
      " 7   daily_target_norm  13 non-null     float64       \n",
      " 8   mtd_target_norm    13 non-null     float64       \n",
      " 9   Burpee             3 non-null      object        \n",
      " 10  Core               2 non-null      object        \n",
      " 11  Plank              1 non-null      object        \n",
      " 12  Pushup             0 non-null      object        \n",
      " 13  Squat              0 non-null      object        \n",
      " 14  Total              13 non-null     float64       \n",
      " 15  mtd_actual         13 non-null     float64       \n",
      " 16  flg_daily          13 non-null     int64         \n",
      " 17  mtd_daily          13 non-null     int64         \n",
      "dtypes: datetime64[ns](2), float64(4), int32(3), int64(3), object(6)\n",
      "memory usage: 1.8+ KB\n"
     ]
    }
   ],
   "source": [
    "dta_chart.info()"
   ]
  },
  {
   "cell_type": "code",
   "execution_count": 292,
   "metadata": {},
   "outputs": [
    {
     "data": {
      "application/vnd.plotly.v1+json": {
       "config": {
        "plotlyServerURL": "https://plot.ly"
       },
       "data": [
        {
         "delta": {
          "increasing": {
           "color": "green"
          },
          "position": "top",
          "reference": 1000
         },
         "gauge": {
          "axis": {
           "range": [
            0,
            1000
           ]
          },
          "bar": {
           "color": "blue"
          },
          "steps": [
           {
            "color": "#ff4545",
            "range": [
             0,
             500
            ]
           },
           {
            "color": "#fffc45",
            "range": [
             500,
             750
            ]
           }
          ],
          "threshold": {
           "line": {
            "color": "red",
            "width": 4
           },
           "thickness": 0.75,
           "value": 1000
          }
         },
         "mode": "gauge+number+delta",
         "number": {
          "valueformat": ",.0f"
         },
         "type": "indicator",
         "value": 1100
        }
       ],
       "layout": {
        "annotations": [
         {
          "font": {
           "size": 20
          },
          "showarrow": false,
          "text": "(110%)",
          "x": 0.5,
          "xanchor": "center",
          "y": -0.1,
          "yanchor": "bottom"
         }
        ],
        "height": 400,
        "template": {
         "data": {
          "bar": [
           {
            "error_x": {
             "color": "#2a3f5f"
            },
            "error_y": {
             "color": "#2a3f5f"
            },
            "marker": {
             "line": {
              "color": "#E5ECF6",
              "width": 0.5
             },
             "pattern": {
              "fillmode": "overlay",
              "size": 10,
              "solidity": 0.2
             }
            },
            "type": "bar"
           }
          ],
          "barpolar": [
           {
            "marker": {
             "line": {
              "color": "#E5ECF6",
              "width": 0.5
             },
             "pattern": {
              "fillmode": "overlay",
              "size": 10,
              "solidity": 0.2
             }
            },
            "type": "barpolar"
           }
          ],
          "carpet": [
           {
            "aaxis": {
             "endlinecolor": "#2a3f5f",
             "gridcolor": "white",
             "linecolor": "white",
             "minorgridcolor": "white",
             "startlinecolor": "#2a3f5f"
            },
            "baxis": {
             "endlinecolor": "#2a3f5f",
             "gridcolor": "white",
             "linecolor": "white",
             "minorgridcolor": "white",
             "startlinecolor": "#2a3f5f"
            },
            "type": "carpet"
           }
          ],
          "choropleth": [
           {
            "colorbar": {
             "outlinewidth": 0,
             "ticks": ""
            },
            "type": "choropleth"
           }
          ],
          "contour": [
           {
            "colorbar": {
             "outlinewidth": 0,
             "ticks": ""
            },
            "colorscale": [
             [
              0,
              "#0d0887"
             ],
             [
              0.1111111111111111,
              "#46039f"
             ],
             [
              0.2222222222222222,
              "#7201a8"
             ],
             [
              0.3333333333333333,
              "#9c179e"
             ],
             [
              0.4444444444444444,
              "#bd3786"
             ],
             [
              0.5555555555555556,
              "#d8576b"
             ],
             [
              0.6666666666666666,
              "#ed7953"
             ],
             [
              0.7777777777777778,
              "#fb9f3a"
             ],
             [
              0.8888888888888888,
              "#fdca26"
             ],
             [
              1,
              "#f0f921"
             ]
            ],
            "type": "contour"
           }
          ],
          "contourcarpet": [
           {
            "colorbar": {
             "outlinewidth": 0,
             "ticks": ""
            },
            "type": "contourcarpet"
           }
          ],
          "heatmap": [
           {
            "colorbar": {
             "outlinewidth": 0,
             "ticks": ""
            },
            "colorscale": [
             [
              0,
              "#0d0887"
             ],
             [
              0.1111111111111111,
              "#46039f"
             ],
             [
              0.2222222222222222,
              "#7201a8"
             ],
             [
              0.3333333333333333,
              "#9c179e"
             ],
             [
              0.4444444444444444,
              "#bd3786"
             ],
             [
              0.5555555555555556,
              "#d8576b"
             ],
             [
              0.6666666666666666,
              "#ed7953"
             ],
             [
              0.7777777777777778,
              "#fb9f3a"
             ],
             [
              0.8888888888888888,
              "#fdca26"
             ],
             [
              1,
              "#f0f921"
             ]
            ],
            "type": "heatmap"
           }
          ],
          "heatmapgl": [
           {
            "colorbar": {
             "outlinewidth": 0,
             "ticks": ""
            },
            "colorscale": [
             [
              0,
              "#0d0887"
             ],
             [
              0.1111111111111111,
              "#46039f"
             ],
             [
              0.2222222222222222,
              "#7201a8"
             ],
             [
              0.3333333333333333,
              "#9c179e"
             ],
             [
              0.4444444444444444,
              "#bd3786"
             ],
             [
              0.5555555555555556,
              "#d8576b"
             ],
             [
              0.6666666666666666,
              "#ed7953"
             ],
             [
              0.7777777777777778,
              "#fb9f3a"
             ],
             [
              0.8888888888888888,
              "#fdca26"
             ],
             [
              1,
              "#f0f921"
             ]
            ],
            "type": "heatmapgl"
           }
          ],
          "histogram": [
           {
            "marker": {
             "pattern": {
              "fillmode": "overlay",
              "size": 10,
              "solidity": 0.2
             }
            },
            "type": "histogram"
           }
          ],
          "histogram2d": [
           {
            "colorbar": {
             "outlinewidth": 0,
             "ticks": ""
            },
            "colorscale": [
             [
              0,
              "#0d0887"
             ],
             [
              0.1111111111111111,
              "#46039f"
             ],
             [
              0.2222222222222222,
              "#7201a8"
             ],
             [
              0.3333333333333333,
              "#9c179e"
             ],
             [
              0.4444444444444444,
              "#bd3786"
             ],
             [
              0.5555555555555556,
              "#d8576b"
             ],
             [
              0.6666666666666666,
              "#ed7953"
             ],
             [
              0.7777777777777778,
              "#fb9f3a"
             ],
             [
              0.8888888888888888,
              "#fdca26"
             ],
             [
              1,
              "#f0f921"
             ]
            ],
            "type": "histogram2d"
           }
          ],
          "histogram2dcontour": [
           {
            "colorbar": {
             "outlinewidth": 0,
             "ticks": ""
            },
            "colorscale": [
             [
              0,
              "#0d0887"
             ],
             [
              0.1111111111111111,
              "#46039f"
             ],
             [
              0.2222222222222222,
              "#7201a8"
             ],
             [
              0.3333333333333333,
              "#9c179e"
             ],
             [
              0.4444444444444444,
              "#bd3786"
             ],
             [
              0.5555555555555556,
              "#d8576b"
             ],
             [
              0.6666666666666666,
              "#ed7953"
             ],
             [
              0.7777777777777778,
              "#fb9f3a"
             ],
             [
              0.8888888888888888,
              "#fdca26"
             ],
             [
              1,
              "#f0f921"
             ]
            ],
            "type": "histogram2dcontour"
           }
          ],
          "mesh3d": [
           {
            "colorbar": {
             "outlinewidth": 0,
             "ticks": ""
            },
            "type": "mesh3d"
           }
          ],
          "parcoords": [
           {
            "line": {
             "colorbar": {
              "outlinewidth": 0,
              "ticks": ""
             }
            },
            "type": "parcoords"
           }
          ],
          "pie": [
           {
            "automargin": true,
            "type": "pie"
           }
          ],
          "scatter": [
           {
            "fillpattern": {
             "fillmode": "overlay",
             "size": 10,
             "solidity": 0.2
            },
            "type": "scatter"
           }
          ],
          "scatter3d": [
           {
            "line": {
             "colorbar": {
              "outlinewidth": 0,
              "ticks": ""
             }
            },
            "marker": {
             "colorbar": {
              "outlinewidth": 0,
              "ticks": ""
             }
            },
            "type": "scatter3d"
           }
          ],
          "scattercarpet": [
           {
            "marker": {
             "colorbar": {
              "outlinewidth": 0,
              "ticks": ""
             }
            },
            "type": "scattercarpet"
           }
          ],
          "scattergeo": [
           {
            "marker": {
             "colorbar": {
              "outlinewidth": 0,
              "ticks": ""
             }
            },
            "type": "scattergeo"
           }
          ],
          "scattergl": [
           {
            "marker": {
             "colorbar": {
              "outlinewidth": 0,
              "ticks": ""
             }
            },
            "type": "scattergl"
           }
          ],
          "scattermapbox": [
           {
            "marker": {
             "colorbar": {
              "outlinewidth": 0,
              "ticks": ""
             }
            },
            "type": "scattermapbox"
           }
          ],
          "scatterpolar": [
           {
            "marker": {
             "colorbar": {
              "outlinewidth": 0,
              "ticks": ""
             }
            },
            "type": "scatterpolar"
           }
          ],
          "scatterpolargl": [
           {
            "marker": {
             "colorbar": {
              "outlinewidth": 0,
              "ticks": ""
             }
            },
            "type": "scatterpolargl"
           }
          ],
          "scatterternary": [
           {
            "marker": {
             "colorbar": {
              "outlinewidth": 0,
              "ticks": ""
             }
            },
            "type": "scatterternary"
           }
          ],
          "surface": [
           {
            "colorbar": {
             "outlinewidth": 0,
             "ticks": ""
            },
            "colorscale": [
             [
              0,
              "#0d0887"
             ],
             [
              0.1111111111111111,
              "#46039f"
             ],
             [
              0.2222222222222222,
              "#7201a8"
             ],
             [
              0.3333333333333333,
              "#9c179e"
             ],
             [
              0.4444444444444444,
              "#bd3786"
             ],
             [
              0.5555555555555556,
              "#d8576b"
             ],
             [
              0.6666666666666666,
              "#ed7953"
             ],
             [
              0.7777777777777778,
              "#fb9f3a"
             ],
             [
              0.8888888888888888,
              "#fdca26"
             ],
             [
              1,
              "#f0f921"
             ]
            ],
            "type": "surface"
           }
          ],
          "table": [
           {
            "cells": {
             "fill": {
              "color": "#EBF0F8"
             },
             "line": {
              "color": "white"
             }
            },
            "header": {
             "fill": {
              "color": "#C8D4E3"
             },
             "line": {
              "color": "white"
             }
            },
            "type": "table"
           }
          ]
         },
         "layout": {
          "annotationdefaults": {
           "arrowcolor": "#2a3f5f",
           "arrowhead": 0,
           "arrowwidth": 1
          },
          "autotypenumbers": "strict",
          "coloraxis": {
           "colorbar": {
            "outlinewidth": 0,
            "ticks": ""
           }
          },
          "colorscale": {
           "diverging": [
            [
             0,
             "#8e0152"
            ],
            [
             0.1,
             "#c51b7d"
            ],
            [
             0.2,
             "#de77ae"
            ],
            [
             0.3,
             "#f1b6da"
            ],
            [
             0.4,
             "#fde0ef"
            ],
            [
             0.5,
             "#f7f7f7"
            ],
            [
             0.6,
             "#e6f5d0"
            ],
            [
             0.7,
             "#b8e186"
            ],
            [
             0.8,
             "#7fbc41"
            ],
            [
             0.9,
             "#4d9221"
            ],
            [
             1,
             "#276419"
            ]
           ],
           "sequential": [
            [
             0,
             "#0d0887"
            ],
            [
             0.1111111111111111,
             "#46039f"
            ],
            [
             0.2222222222222222,
             "#7201a8"
            ],
            [
             0.3333333333333333,
             "#9c179e"
            ],
            [
             0.4444444444444444,
             "#bd3786"
            ],
            [
             0.5555555555555556,
             "#d8576b"
            ],
            [
             0.6666666666666666,
             "#ed7953"
            ],
            [
             0.7777777777777778,
             "#fb9f3a"
            ],
            [
             0.8888888888888888,
             "#fdca26"
            ],
            [
             1,
             "#f0f921"
            ]
           ],
           "sequentialminus": [
            [
             0,
             "#0d0887"
            ],
            [
             0.1111111111111111,
             "#46039f"
            ],
            [
             0.2222222222222222,
             "#7201a8"
            ],
            [
             0.3333333333333333,
             "#9c179e"
            ],
            [
             0.4444444444444444,
             "#bd3786"
            ],
            [
             0.5555555555555556,
             "#d8576b"
            ],
            [
             0.6666666666666666,
             "#ed7953"
            ],
            [
             0.7777777777777778,
             "#fb9f3a"
            ],
            [
             0.8888888888888888,
             "#fdca26"
            ],
            [
             1,
             "#f0f921"
            ]
           ]
          },
          "colorway": [
           "#636efa",
           "#EF553B",
           "#00cc96",
           "#ab63fa",
           "#FFA15A",
           "#19d3f3",
           "#FF6692",
           "#B6E880",
           "#FF97FF",
           "#FECB52"
          ],
          "font": {
           "color": "#2a3f5f"
          },
          "geo": {
           "bgcolor": "white",
           "lakecolor": "white",
           "landcolor": "#E5ECF6",
           "showlakes": true,
           "showland": true,
           "subunitcolor": "white"
          },
          "hoverlabel": {
           "align": "left"
          },
          "hovermode": "closest",
          "mapbox": {
           "style": "light"
          },
          "paper_bgcolor": "white",
          "plot_bgcolor": "#E5ECF6",
          "polar": {
           "angularaxis": {
            "gridcolor": "white",
            "linecolor": "white",
            "ticks": ""
           },
           "bgcolor": "#E5ECF6",
           "radialaxis": {
            "gridcolor": "white",
            "linecolor": "white",
            "ticks": ""
           }
          },
          "scene": {
           "xaxis": {
            "backgroundcolor": "#E5ECF6",
            "gridcolor": "white",
            "gridwidth": 2,
            "linecolor": "white",
            "showbackground": true,
            "ticks": "",
            "zerolinecolor": "white"
           },
           "yaxis": {
            "backgroundcolor": "#E5ECF6",
            "gridcolor": "white",
            "gridwidth": 2,
            "linecolor": "white",
            "showbackground": true,
            "ticks": "",
            "zerolinecolor": "white"
           },
           "zaxis": {
            "backgroundcolor": "#E5ECF6",
            "gridcolor": "white",
            "gridwidth": 2,
            "linecolor": "white",
            "showbackground": true,
            "ticks": "",
            "zerolinecolor": "white"
           }
          },
          "shapedefaults": {
           "line": {
            "color": "#2a3f5f"
           }
          },
          "ternary": {
           "aaxis": {
            "gridcolor": "white",
            "linecolor": "white",
            "ticks": ""
           },
           "baxis": {
            "gridcolor": "white",
            "linecolor": "white",
            "ticks": ""
           },
           "bgcolor": "#E5ECF6",
           "caxis": {
            "gridcolor": "white",
            "linecolor": "white",
            "ticks": ""
           }
          },
          "title": {
           "x": 0.05
          },
          "xaxis": {
           "automargin": true,
           "gridcolor": "white",
           "linecolor": "white",
           "ticks": "",
           "title": {
            "standoff": 15
           },
           "zerolinecolor": "white",
           "zerolinewidth": 2
          },
          "yaxis": {
           "automargin": true,
           "gridcolor": "white",
           "linecolor": "white",
           "ticks": "",
           "title": {
            "standoff": 15
           },
           "zerolinecolor": "white",
           "zerolinewidth": 2
          }
         }
        },
        "title": {
         "text": "Sales Target Progress",
         "x": 0.5
        }
       }
      }
     },
     "metadata": {},
     "output_type": "display_data"
    }
   ],
   "source": [
    "import plotly.graph_objects as go\n",
    "\n",
    "# Parameters\n",
    "total_amount = 1000  # Total target\n",
    "current_value = 1100  # Current value\n",
    "\n",
    "# Calculate percentage completion\n",
    "percentage_complete = (current_value / total_amount) * 100\n",
    "\n",
    "# Create the gauge chart\n",
    "fig = go.Figure(go.Indicator(\n",
    "    mode=\"gauge+number+delta\",  # Shows the gauge, number, and delta (difference from total)\n",
    "    value=current_value,  # Absolute value (current amount)\n",
    "    number={'valueformat': ',.0f'},  # Display the absolute value without decimal points\n",
    "    delta={'reference': total_amount, 'position': \"top\", 'increasing': {'color': \"green\"}},  # Show difference from total\n",
    "    gauge={\n",
    "        'axis': {'range': [0, total_amount]},  # Set the range from 0 to the total\n",
    "        'bar': {'color': \"blue\"},  # Color of the gauge bar\n",
    "        'steps': [\n",
    "            {'range': [0, total_amount * 0.5], 'color': \"#ff4545\"},  # Colors for ranges\n",
    "            {'range': [total_amount * 0.5, total_amount*0.75], 'color': \"#fffc45\"}\n",
    "        ],\n",
    "        'threshold': {\n",
    "            'line': {'color': \"red\", 'width': 4},\n",
    "            'thickness': 0.75,\n",
    "            'value': total_amount  # Mark the total with a threshold line\n",
    "        }\n",
    "    }\n",
    "))\n",
    "\n",
    "# Add annotation for percentage on a new line\n",
    "fig.add_annotation(\n",
    "    x=0.5, y=-0.1,  # Position the annotation\n",
    "    text=f\"({percentage_complete:.0f}%)\",  # Display the percentage\n",
    "    showarrow=False,\n",
    "    font={'size': 20},\n",
    "    xanchor=\"center\",\n",
    "    yanchor=\"bottom\"\n",
    ")\n",
    "\n",
    "# Update layout to customize appearance\n",
    "fig.update_layout(\n",
    "    title={'text': \"Sales Target Progress\", 'x': 0.5},  # Title and center it\n",
    "    height=400\n",
    ")\n",
    "\n",
    "# Display the chart\n",
    "fig.show()\n"
   ]
  },
  {
   "cell_type": "code",
   "execution_count": 374,
   "metadata": {},
   "outputs": [
    {
     "data": {
      "text/plain": [
       "rec.array([(  4, 'An',  40, 1000, '2024-09-01T00:00:00.000000000', '2024-09-05T00:00:00.000000000', 5, 30,  33.33333333, 166.66666667, nan, nan, nan, nan, nan,   0. ,  50. , 0, 1),\n",
       "           ( 34, 'Hiệp',  56, 1400, '2024-09-01T00:00:00.000000000', '2024-09-05T00:00:00.000000000', 5, 30,  46.66666667, 233.33333333, nan, 120, nan, nan, nan,  60. , 115. , 1, 1),\n",
       "           ( 64, 'Hoàng',  32,  800, '2024-09-01T00:00:00.000000000', '2024-09-05T00:00:00.000000000', 5, 30,  26.66666667, 133.33333333, nan, nan, nan, nan, nan,   0. ,   0. , 0, 0),\n",
       "           ( 94, 'Kiên Chu',  32,  800, '2024-09-01T00:00:00.000000000', '2024-09-05T00:00:00.000000000', 5, 30,  26.66666667, 133.33333333, nan, nan, nan, nan, nan,   0. ,   0. , 0, 0),\n",
       "           (124, 'Kiên Trần', 104, 2600, '2024-09-01T00:00:00.000000000', '2024-09-05T00:00:00.000000000', 5, 30,  86.66666667, 433.33333333, nan, nan, nan, nan, nan,   0. , 160. , 0, 1),\n",
       "           (154, 'Ninh', 160, 4000, '2024-09-01T00:00:00.000000000', '2024-09-05T00:00:00.000000000', 5, 30, 133.33333333, 666.66666667, 100, 220, nan, nan, nan, 210. , 630. , 1, 3),\n",
       "           (184, 'Quỳnh',  40, 1000, '2024-09-01T00:00:00.000000000', '2024-09-05T00:00:00.000000000', 5, 30,  33.33333333, 166.66666667, nan, nan, nan, nan, nan,   0. ,  66. , 0, 1),\n",
       "           (214, 'Sơn', 160, 4000, '2024-09-01T00:00:00.000000000', '2024-09-05T00:00:00.000000000', 5, 30, 133.33333333, 666.66666667, 160, nan, nan, nan, nan, 160. , 560. , 1, 3),\n",
       "           (244, 'Thiện',  32,  800, '2024-09-01T00:00:00.000000000', '2024-09-05T00:00:00.000000000', 5, 30,  26.66666667, 133.33333333, 30, nan, nan, nan, nan,  30. ,  30. , 0, 0),\n",
       "           (274, 'Thảo',  72, 1800, '2024-09-01T00:00:00.000000000', '2024-09-05T00:00:00.000000000', 5, 30,  60.        , 300.        , nan, nan, nan, nan, nan,   0. , 215. , 0, 2),\n",
       "           (304, 'Trung',  32,  800, '2024-09-01T00:00:00.000000000', '2024-09-05T00:00:00.000000000', 5, 30,  26.66666667, 133.33333333, nan, nan, 6.5, nan, nan,  45.5, 132.5, 1, 3),\n",
       "           (334, 'Tuấn',  32,  800, '2024-09-01T00:00:00.000000000', '2024-09-05T00:00:00.000000000', 5, 30,  26.66666667, 133.33333333, nan, nan, nan, nan, nan,   0. ,  30. , 0, 0),\n",
       "           (364, 'Đức',  32,  800, '2024-09-01T00:00:00.000000000', '2024-09-05T00:00:00.000000000', 5, 30,  26.66666667, 133.33333333, nan, nan, nan, nan, nan,   0. ,   0. , 0, 0)],\n",
       "          dtype=[('index', '<i8'), ('user', 'O'), ('Daily', '<i4'), ('Target', '<i4'), ('report_month', '<M8[ns]'), ('report_date', '<M8[ns]'), ('report_day', '<i4'), ('no_of_day', '<i8'), ('daily_target_norm', '<f8'), ('mtd_target_norm', '<f8'), ('Burpee', 'O'), ('Core', 'O'), ('Plank', 'O'), ('Pushup', 'O'), ('Squat', 'O'), ('Total', '<f8'), ('mtd_actual', '<f8'), ('flg_daily', '<i8'), ('mtd_daily', '<i8')])"
      ]
     },
     "execution_count": 374,
     "metadata": {},
     "output_type": "execute_result"
    }
   ],
   "source": [
    "dta_chart.to_records()"
   ]
  },
  {
   "cell_type": "code",
   "execution_count": 387,
   "metadata": {},
   "outputs": [
    {
     "data": {
      "text/plain": [
       "Index(['user', 'Daily', 'Target', 'report_month', 'report_date', 'report_day',\n",
       "       'no_of_day', 'daily_target_norm', 'mtd_target_norm', 'Burpee', 'Core',\n",
       "       'Plank', 'Pushup', 'Squat', 'Total', 'mtd_actual', 'flg_daily',\n",
       "       'mtd_daily'],\n",
       "      dtype='object')"
      ]
     },
     "execution_count": 387,
     "metadata": {},
     "output_type": "execute_result"
    }
   ],
   "source": [
    "dta_chart.columns"
   ]
  },
  {
   "cell_type": "code",
   "execution_count": 403,
   "metadata": {},
   "outputs": [
    {
     "name": "stderr",
     "output_type": "stream",
     "text": [
      "C:\\Users\\kien.tn\\AppData\\Local\\Temp\\ipykernel_20320\\2449174423.py:17: SettingWithCopyWarning:\n",
      "\n",
      "\n",
      "A value is trying to be set on a copy of a slice from a DataFrame.\n",
      "Try using .loc[row_indexer,col_indexer] = value instead\n",
      "\n",
      "See the caveats in the documentation: https://pandas.pydata.org/pandas-docs/stable/user_guide/indexing.html#returning-a-view-versus-a-copy\n",
      "\n",
      "C:\\Users\\kien.tn\\AppData\\Local\\Temp\\ipykernel_20320\\2449174423.py:18: SettingWithCopyWarning:\n",
      "\n",
      "\n",
      "A value is trying to be set on a copy of a slice from a DataFrame.\n",
      "Try using .loc[row_indexer,col_indexer] = value instead\n",
      "\n",
      "See the caveats in the documentation: https://pandas.pydata.org/pandas-docs/stable/user_guide/indexing.html#returning-a-view-versus-a-copy\n",
      "\n",
      "C:\\Users\\kien.tn\\AppData\\Local\\Temp\\ipykernel_20320\\2449174423.py:25: SettingWithCopyWarning:\n",
      "\n",
      "\n",
      "A value is trying to be set on a copy of a slice from a DataFrame.\n",
      "Try using .loc[row_indexer,col_indexer] = value instead\n",
      "\n",
      "See the caveats in the documentation: https://pandas.pydata.org/pandas-docs/stable/user_guide/indexing.html#returning-a-view-versus-a-copy\n",
      "\n"
     ]
    },
    {
     "data": {
      "application/vnd.plotly.v1+json": {
       "config": {
        "plotlyServerURL": "https://plot.ly"
       },
       "data": [
        {
         "hoverinfo": "none",
         "marker": {
          "color": [
           "#b3c58b",
           "#b8c19c",
           "#1636a9",
           "#c4f83c",
           "#79c540",
           "#99f7a7",
           "#fe4fb5",
           "#f02100",
           "#f4f1cc",
           "#24c987",
           "#d9ac97",
           "#47ce6d",
           "#b5e85c"
          ]
         },
         "orientation": "h",
         "text": [
          "An | 5%<br>Target: 1,000<br>Thực hiện: 50<br>Difference: -950",
          "Hiệp | 8%<br>Target: 1,400<br>Thực hiện: 115<br>Difference: -1,285",
          "Hoàng | 0%<br>Target: 800<br>Thực hiện: 0<br>Difference: -800",
          "Kiên Chu | 0%<br>Target: 800<br>Thực hiện: 0<br>Difference: -800",
          "Kiên Trần | 6%<br>Target: 2,600<br>Thực hiện: 160<br>Difference: -2,440",
          "Ninh | 16%<br>Target: 4,000<br>Thực hiện: 630<br>Difference: -3,370",
          "Quỳnh | 7%<br>Target: 1,000<br>Thực hiện: 66<br>Difference: -934",
          "Sơn | 14%<br>Target: 4,000<br>Thực hiện: 560<br>Difference: -3,440",
          "Thiện | 4%<br>Target: 800<br>Thực hiện: 30<br>Difference: -770",
          "Thảo | 12%<br>Target: 1,800<br>Thực hiện: 215<br>Difference: -1,585",
          "Trung | 17%<br>Target: 800<br>Thực hiện: 132<br>Difference: -668",
          "Tuấn | 4%<br>Target: 800<br>Thực hiện: 30<br>Difference: -770",
          "Đức | 0%<br>Target: 800<br>Thực hiện: 0<br>Difference: -800"
         ],
         "textposition": "outside",
         "texttemplate": "%{text}",
         "type": "bar",
         "x": [
          5,
          8.214285714285714,
          0,
          0,
          6.153846153846154,
          15.75,
          6.6000000000000005,
          14.000000000000002,
          3.75,
          11.944444444444445,
          16.5625,
          3.75,
          0
         ],
         "y": [
          "An",
          "Hiệp",
          "Hoàng",
          "Kiên Chu",
          "Kiên Trần",
          "Ninh",
          "Quỳnh",
          "Sơn",
          "Thiện",
          "Thảo",
          "Trung",
          "Tuấn",
          "Đức"
         ]
        }
       ],
       "layout": {
        "bargap": 0.2,
        "height": 1430,
        "showlegend": false,
        "template": {
         "data": {
          "bar": [
           {
            "error_x": {
             "color": "#2a3f5f"
            },
            "error_y": {
             "color": "#2a3f5f"
            },
            "marker": {
             "line": {
              "color": "#E5ECF6",
              "width": 0.5
             },
             "pattern": {
              "fillmode": "overlay",
              "size": 10,
              "solidity": 0.2
             }
            },
            "type": "bar"
           }
          ],
          "barpolar": [
           {
            "marker": {
             "line": {
              "color": "#E5ECF6",
              "width": 0.5
             },
             "pattern": {
              "fillmode": "overlay",
              "size": 10,
              "solidity": 0.2
             }
            },
            "type": "barpolar"
           }
          ],
          "carpet": [
           {
            "aaxis": {
             "endlinecolor": "#2a3f5f",
             "gridcolor": "white",
             "linecolor": "white",
             "minorgridcolor": "white",
             "startlinecolor": "#2a3f5f"
            },
            "baxis": {
             "endlinecolor": "#2a3f5f",
             "gridcolor": "white",
             "linecolor": "white",
             "minorgridcolor": "white",
             "startlinecolor": "#2a3f5f"
            },
            "type": "carpet"
           }
          ],
          "choropleth": [
           {
            "colorbar": {
             "outlinewidth": 0,
             "ticks": ""
            },
            "type": "choropleth"
           }
          ],
          "contour": [
           {
            "colorbar": {
             "outlinewidth": 0,
             "ticks": ""
            },
            "colorscale": [
             [
              0,
              "#0d0887"
             ],
             [
              0.1111111111111111,
              "#46039f"
             ],
             [
              0.2222222222222222,
              "#7201a8"
             ],
             [
              0.3333333333333333,
              "#9c179e"
             ],
             [
              0.4444444444444444,
              "#bd3786"
             ],
             [
              0.5555555555555556,
              "#d8576b"
             ],
             [
              0.6666666666666666,
              "#ed7953"
             ],
             [
              0.7777777777777778,
              "#fb9f3a"
             ],
             [
              0.8888888888888888,
              "#fdca26"
             ],
             [
              1,
              "#f0f921"
             ]
            ],
            "type": "contour"
           }
          ],
          "contourcarpet": [
           {
            "colorbar": {
             "outlinewidth": 0,
             "ticks": ""
            },
            "type": "contourcarpet"
           }
          ],
          "heatmap": [
           {
            "colorbar": {
             "outlinewidth": 0,
             "ticks": ""
            },
            "colorscale": [
             [
              0,
              "#0d0887"
             ],
             [
              0.1111111111111111,
              "#46039f"
             ],
             [
              0.2222222222222222,
              "#7201a8"
             ],
             [
              0.3333333333333333,
              "#9c179e"
             ],
             [
              0.4444444444444444,
              "#bd3786"
             ],
             [
              0.5555555555555556,
              "#d8576b"
             ],
             [
              0.6666666666666666,
              "#ed7953"
             ],
             [
              0.7777777777777778,
              "#fb9f3a"
             ],
             [
              0.8888888888888888,
              "#fdca26"
             ],
             [
              1,
              "#f0f921"
             ]
            ],
            "type": "heatmap"
           }
          ],
          "heatmapgl": [
           {
            "colorbar": {
             "outlinewidth": 0,
             "ticks": ""
            },
            "colorscale": [
             [
              0,
              "#0d0887"
             ],
             [
              0.1111111111111111,
              "#46039f"
             ],
             [
              0.2222222222222222,
              "#7201a8"
             ],
             [
              0.3333333333333333,
              "#9c179e"
             ],
             [
              0.4444444444444444,
              "#bd3786"
             ],
             [
              0.5555555555555556,
              "#d8576b"
             ],
             [
              0.6666666666666666,
              "#ed7953"
             ],
             [
              0.7777777777777778,
              "#fb9f3a"
             ],
             [
              0.8888888888888888,
              "#fdca26"
             ],
             [
              1,
              "#f0f921"
             ]
            ],
            "type": "heatmapgl"
           }
          ],
          "histogram": [
           {
            "marker": {
             "pattern": {
              "fillmode": "overlay",
              "size": 10,
              "solidity": 0.2
             }
            },
            "type": "histogram"
           }
          ],
          "histogram2d": [
           {
            "colorbar": {
             "outlinewidth": 0,
             "ticks": ""
            },
            "colorscale": [
             [
              0,
              "#0d0887"
             ],
             [
              0.1111111111111111,
              "#46039f"
             ],
             [
              0.2222222222222222,
              "#7201a8"
             ],
             [
              0.3333333333333333,
              "#9c179e"
             ],
             [
              0.4444444444444444,
              "#bd3786"
             ],
             [
              0.5555555555555556,
              "#d8576b"
             ],
             [
              0.6666666666666666,
              "#ed7953"
             ],
             [
              0.7777777777777778,
              "#fb9f3a"
             ],
             [
              0.8888888888888888,
              "#fdca26"
             ],
             [
              1,
              "#f0f921"
             ]
            ],
            "type": "histogram2d"
           }
          ],
          "histogram2dcontour": [
           {
            "colorbar": {
             "outlinewidth": 0,
             "ticks": ""
            },
            "colorscale": [
             [
              0,
              "#0d0887"
             ],
             [
              0.1111111111111111,
              "#46039f"
             ],
             [
              0.2222222222222222,
              "#7201a8"
             ],
             [
              0.3333333333333333,
              "#9c179e"
             ],
             [
              0.4444444444444444,
              "#bd3786"
             ],
             [
              0.5555555555555556,
              "#d8576b"
             ],
             [
              0.6666666666666666,
              "#ed7953"
             ],
             [
              0.7777777777777778,
              "#fb9f3a"
             ],
             [
              0.8888888888888888,
              "#fdca26"
             ],
             [
              1,
              "#f0f921"
             ]
            ],
            "type": "histogram2dcontour"
           }
          ],
          "mesh3d": [
           {
            "colorbar": {
             "outlinewidth": 0,
             "ticks": ""
            },
            "type": "mesh3d"
           }
          ],
          "parcoords": [
           {
            "line": {
             "colorbar": {
              "outlinewidth": 0,
              "ticks": ""
             }
            },
            "type": "parcoords"
           }
          ],
          "pie": [
           {
            "automargin": true,
            "type": "pie"
           }
          ],
          "scatter": [
           {
            "fillpattern": {
             "fillmode": "overlay",
             "size": 10,
             "solidity": 0.2
            },
            "type": "scatter"
           }
          ],
          "scatter3d": [
           {
            "line": {
             "colorbar": {
              "outlinewidth": 0,
              "ticks": ""
             }
            },
            "marker": {
             "colorbar": {
              "outlinewidth": 0,
              "ticks": ""
             }
            },
            "type": "scatter3d"
           }
          ],
          "scattercarpet": [
           {
            "marker": {
             "colorbar": {
              "outlinewidth": 0,
              "ticks": ""
             }
            },
            "type": "scattercarpet"
           }
          ],
          "scattergeo": [
           {
            "marker": {
             "colorbar": {
              "outlinewidth": 0,
              "ticks": ""
             }
            },
            "type": "scattergeo"
           }
          ],
          "scattergl": [
           {
            "marker": {
             "colorbar": {
              "outlinewidth": 0,
              "ticks": ""
             }
            },
            "type": "scattergl"
           }
          ],
          "scattermapbox": [
           {
            "marker": {
             "colorbar": {
              "outlinewidth": 0,
              "ticks": ""
             }
            },
            "type": "scattermapbox"
           }
          ],
          "scatterpolar": [
           {
            "marker": {
             "colorbar": {
              "outlinewidth": 0,
              "ticks": ""
             }
            },
            "type": "scatterpolar"
           }
          ],
          "scatterpolargl": [
           {
            "marker": {
             "colorbar": {
              "outlinewidth": 0,
              "ticks": ""
             }
            },
            "type": "scatterpolargl"
           }
          ],
          "scatterternary": [
           {
            "marker": {
             "colorbar": {
              "outlinewidth": 0,
              "ticks": ""
             }
            },
            "type": "scatterternary"
           }
          ],
          "surface": [
           {
            "colorbar": {
             "outlinewidth": 0,
             "ticks": ""
            },
            "colorscale": [
             [
              0,
              "#0d0887"
             ],
             [
              0.1111111111111111,
              "#46039f"
             ],
             [
              0.2222222222222222,
              "#7201a8"
             ],
             [
              0.3333333333333333,
              "#9c179e"
             ],
             [
              0.4444444444444444,
              "#bd3786"
             ],
             [
              0.5555555555555556,
              "#d8576b"
             ],
             [
              0.6666666666666666,
              "#ed7953"
             ],
             [
              0.7777777777777778,
              "#fb9f3a"
             ],
             [
              0.8888888888888888,
              "#fdca26"
             ],
             [
              1,
              "#f0f921"
             ]
            ],
            "type": "surface"
           }
          ],
          "table": [
           {
            "cells": {
             "fill": {
              "color": "#EBF0F8"
             },
             "line": {
              "color": "white"
             }
            },
            "header": {
             "fill": {
              "color": "#C8D4E3"
             },
             "line": {
              "color": "white"
             }
            },
            "type": "table"
           }
          ]
         },
         "layout": {
          "annotationdefaults": {
           "arrowcolor": "#2a3f5f",
           "arrowhead": 0,
           "arrowwidth": 1
          },
          "autotypenumbers": "strict",
          "coloraxis": {
           "colorbar": {
            "outlinewidth": 0,
            "ticks": ""
           }
          },
          "colorscale": {
           "diverging": [
            [
             0,
             "#8e0152"
            ],
            [
             0.1,
             "#c51b7d"
            ],
            [
             0.2,
             "#de77ae"
            ],
            [
             0.3,
             "#f1b6da"
            ],
            [
             0.4,
             "#fde0ef"
            ],
            [
             0.5,
             "#f7f7f7"
            ],
            [
             0.6,
             "#e6f5d0"
            ],
            [
             0.7,
             "#b8e186"
            ],
            [
             0.8,
             "#7fbc41"
            ],
            [
             0.9,
             "#4d9221"
            ],
            [
             1,
             "#276419"
            ]
           ],
           "sequential": [
            [
             0,
             "#0d0887"
            ],
            [
             0.1111111111111111,
             "#46039f"
            ],
            [
             0.2222222222222222,
             "#7201a8"
            ],
            [
             0.3333333333333333,
             "#9c179e"
            ],
            [
             0.4444444444444444,
             "#bd3786"
            ],
            [
             0.5555555555555556,
             "#d8576b"
            ],
            [
             0.6666666666666666,
             "#ed7953"
            ],
            [
             0.7777777777777778,
             "#fb9f3a"
            ],
            [
             0.8888888888888888,
             "#fdca26"
            ],
            [
             1,
             "#f0f921"
            ]
           ],
           "sequentialminus": [
            [
             0,
             "#0d0887"
            ],
            [
             0.1111111111111111,
             "#46039f"
            ],
            [
             0.2222222222222222,
             "#7201a8"
            ],
            [
             0.3333333333333333,
             "#9c179e"
            ],
            [
             0.4444444444444444,
             "#bd3786"
            ],
            [
             0.5555555555555556,
             "#d8576b"
            ],
            [
             0.6666666666666666,
             "#ed7953"
            ],
            [
             0.7777777777777778,
             "#fb9f3a"
            ],
            [
             0.8888888888888888,
             "#fdca26"
            ],
            [
             1,
             "#f0f921"
            ]
           ]
          },
          "colorway": [
           "#636efa",
           "#EF553B",
           "#00cc96",
           "#ab63fa",
           "#FFA15A",
           "#19d3f3",
           "#FF6692",
           "#B6E880",
           "#FF97FF",
           "#FECB52"
          ],
          "font": {
           "color": "#2a3f5f"
          },
          "geo": {
           "bgcolor": "white",
           "lakecolor": "white",
           "landcolor": "#E5ECF6",
           "showlakes": true,
           "showland": true,
           "subunitcolor": "white"
          },
          "hoverlabel": {
           "align": "left"
          },
          "hovermode": "closest",
          "mapbox": {
           "style": "light"
          },
          "paper_bgcolor": "white",
          "plot_bgcolor": "#E5ECF6",
          "polar": {
           "angularaxis": {
            "gridcolor": "white",
            "linecolor": "white",
            "ticks": ""
           },
           "bgcolor": "#E5ECF6",
           "radialaxis": {
            "gridcolor": "white",
            "linecolor": "white",
            "ticks": ""
           }
          },
          "scene": {
           "xaxis": {
            "backgroundcolor": "#E5ECF6",
            "gridcolor": "white",
            "gridwidth": 2,
            "linecolor": "white",
            "showbackground": true,
            "ticks": "",
            "zerolinecolor": "white"
           },
           "yaxis": {
            "backgroundcolor": "#E5ECF6",
            "gridcolor": "white",
            "gridwidth": 2,
            "linecolor": "white",
            "showbackground": true,
            "ticks": "",
            "zerolinecolor": "white"
           },
           "zaxis": {
            "backgroundcolor": "#E5ECF6",
            "gridcolor": "white",
            "gridwidth": 2,
            "linecolor": "white",
            "showbackground": true,
            "ticks": "",
            "zerolinecolor": "white"
           }
          },
          "shapedefaults": {
           "line": {
            "color": "#2a3f5f"
           }
          },
          "ternary": {
           "aaxis": {
            "gridcolor": "white",
            "linecolor": "white",
            "ticks": ""
           },
           "baxis": {
            "gridcolor": "white",
            "linecolor": "white",
            "ticks": ""
           },
           "bgcolor": "#E5ECF6",
           "caxis": {
            "gridcolor": "white",
            "linecolor": "white",
            "ticks": ""
           }
          },
          "title": {
           "x": 0.05
          },
          "xaxis": {
           "automargin": true,
           "gridcolor": "white",
           "linecolor": "white",
           "ticks": "",
           "title": {
            "standoff": 15
           },
           "zerolinecolor": "white",
           "zerolinewidth": 2
          },
          "yaxis": {
           "automargin": true,
           "gridcolor": "white",
           "linecolor": "white",
           "ticks": "",
           "title": {
            "standoff": 15
           },
           "zerolinecolor": "white",
           "zerolinewidth": 2
          }
         }
        },
        "title": {
         "text": "Thực hiện target tháng"
        },
        "xaxis": {
         "range": [
          0,
          18.21875
         ],
         "title": {
          "text": "Percentage Complete"
         }
        },
        "yaxis": {
         "showticklabels": false
        }
       }
      }
     },
     "metadata": {},
     "output_type": "display_data"
    }
   ],
   "source": [
    "import plotly.graph_objects as go\n",
    "import pandas as pd\n",
    "import random\n",
    "\n",
    "\n",
    "# Calculate percentage complete and differences\n",
    "dta_chart['percentage_complete'] = (dta_chart['mtd_actual'] / dta_chart['Target']) * 100\n",
    "dta_chart['difference'] = dta_chart['mtd_actual'] - dta_chart['Target']\n",
    "\n",
    "# Function to generate random color\n",
    "def random_color():\n",
    "    return '#{:02x}{:02x}{:02x}'.format(random.randint(0, 255), random.randint(0, 255), random.randint(0, 255))\n",
    "\n",
    "# Generate random colors for each store\n",
    "dta_chart['color'] = [random_color() for _ in dta_chart['user']]\n",
    "\n",
    "# Create the horizontal bar chart\n",
    "fig = go.Figure()\n",
    "\n",
    "# Add bars for each store\n",
    "fig.add_trace(go.Bar(\n",
    "    x=dta_chart['percentage_complete'],  # The percentage complete is shown in the bar\n",
    "    y=dta_chart['user'],  # Store names\n",
    "    orientation='h',  # Horizontal bar chart\n",
    "    marker=dict(color=dta_chart['color']),  # Assign random colors to the bars\n",
    "    text=[f\"{row['user']} | {row['percentage_complete']:,.0f}%<br>Target: {row['Target']:,.0f}<br>Thực hiện: {row['mtd_actual']:,.0f}<br>Difference: {row['difference']:,.0f}\"\n",
    "          for _, row in dta_chart.iterrows()],  # Custom data labels\n",
    "    textposition='outside',  # Position text at the right edge of the bar\n",
    "    texttemplate='%{text}',  # Format to use custom text\n",
    "    hoverinfo='none'  # Disable hover info to avoid duplication with text labels\n",
    "    \n",
    "))\n",
    "\n",
    "# Customize layout\n",
    "fig.update_layout(\n",
    "    title=\"Thực hiện target tháng\",\n",
    "    xaxis_title=\"Percentage Complete\",\n",
    "    yaxis=dict(showticklabels=False),  # Hide the store names on the y-axis\n",
    "    xaxis=dict(range=[0, dta_chart['percentage_complete'].max()*1.1]),  # Limit x-axis to 100% max\n",
    "    height=len(dta_chart)*110,\n",
    "    bargap=0.2,  # Space between bars\n",
    "    showlegend=False\n",
    ")\n",
    "\n",
    "# Show the figure\n",
    "fig.show()\n"
   ]
  },
  {
   "cell_type": "code",
   "execution_count": 404,
   "metadata": {},
   "outputs": [
    {
     "data": {
      "text/html": [
       "<div>\n",
       "<style scoped>\n",
       "    .dataframe tbody tr th:only-of-type {\n",
       "        vertical-align: middle;\n",
       "    }\n",
       "\n",
       "    .dataframe tbody tr th {\n",
       "        vertical-align: top;\n",
       "    }\n",
       "\n",
       "    .dataframe thead th {\n",
       "        text-align: right;\n",
       "    }\n",
       "</style>\n",
       "<table border=\"1\" class=\"dataframe\">\n",
       "  <thead>\n",
       "    <tr style=\"text-align: right;\">\n",
       "      <th></th>\n",
       "      <th>user</th>\n",
       "      <th>Daily</th>\n",
       "      <th>Target</th>\n",
       "      <th>report_month</th>\n",
       "      <th>report_date</th>\n",
       "      <th>report_day</th>\n",
       "      <th>no_of_day</th>\n",
       "      <th>daily_target_norm</th>\n",
       "      <th>mtd_target_norm</th>\n",
       "      <th>Burpee</th>\n",
       "      <th>Core</th>\n",
       "      <th>Plank</th>\n",
       "      <th>Pushup</th>\n",
       "      <th>Squat</th>\n",
       "      <th>Total</th>\n",
       "      <th>mtd_actual</th>\n",
       "      <th>flg_daily</th>\n",
       "      <th>mtd_daily</th>\n",
       "      <th>percentage_complete</th>\n",
       "      <th>difference</th>\n",
       "      <th>color</th>\n",
       "    </tr>\n",
       "  </thead>\n",
       "  <tbody>\n",
       "    <tr>\n",
       "      <th>4</th>\n",
       "      <td>An</td>\n",
       "      <td>40</td>\n",
       "      <td>1000</td>\n",
       "      <td>2024-09-01</td>\n",
       "      <td>2024-09-05</td>\n",
       "      <td>5</td>\n",
       "      <td>30</td>\n",
       "      <td>33.333333</td>\n",
       "      <td>166.666667</td>\n",
       "      <td>NaN</td>\n",
       "      <td>NaN</td>\n",
       "      <td>NaN</td>\n",
       "      <td>NaN</td>\n",
       "      <td>NaN</td>\n",
       "      <td>0.0</td>\n",
       "      <td>50.0</td>\n",
       "      <td>0</td>\n",
       "      <td>1</td>\n",
       "      <td>5.000000</td>\n",
       "      <td>-950.0</td>\n",
       "      <td>#b3c58b</td>\n",
       "    </tr>\n",
       "    <tr>\n",
       "      <th>34</th>\n",
       "      <td>Hiệp</td>\n",
       "      <td>56</td>\n",
       "      <td>1400</td>\n",
       "      <td>2024-09-01</td>\n",
       "      <td>2024-09-05</td>\n",
       "      <td>5</td>\n",
       "      <td>30</td>\n",
       "      <td>46.666667</td>\n",
       "      <td>233.333333</td>\n",
       "      <td>NaN</td>\n",
       "      <td>120</td>\n",
       "      <td>NaN</td>\n",
       "      <td>NaN</td>\n",
       "      <td>NaN</td>\n",
       "      <td>60.0</td>\n",
       "      <td>115.0</td>\n",
       "      <td>1</td>\n",
       "      <td>1</td>\n",
       "      <td>8.214286</td>\n",
       "      <td>-1285.0</td>\n",
       "      <td>#b8c19c</td>\n",
       "    </tr>\n",
       "    <tr>\n",
       "      <th>64</th>\n",
       "      <td>Hoàng</td>\n",
       "      <td>32</td>\n",
       "      <td>800</td>\n",
       "      <td>2024-09-01</td>\n",
       "      <td>2024-09-05</td>\n",
       "      <td>5</td>\n",
       "      <td>30</td>\n",
       "      <td>26.666667</td>\n",
       "      <td>133.333333</td>\n",
       "      <td>NaN</td>\n",
       "      <td>NaN</td>\n",
       "      <td>NaN</td>\n",
       "      <td>NaN</td>\n",
       "      <td>NaN</td>\n",
       "      <td>0.0</td>\n",
       "      <td>0.0</td>\n",
       "      <td>0</td>\n",
       "      <td>0</td>\n",
       "      <td>0.000000</td>\n",
       "      <td>-800.0</td>\n",
       "      <td>#1636a9</td>\n",
       "    </tr>\n",
       "    <tr>\n",
       "      <th>94</th>\n",
       "      <td>Kiên Chu</td>\n",
       "      <td>32</td>\n",
       "      <td>800</td>\n",
       "      <td>2024-09-01</td>\n",
       "      <td>2024-09-05</td>\n",
       "      <td>5</td>\n",
       "      <td>30</td>\n",
       "      <td>26.666667</td>\n",
       "      <td>133.333333</td>\n",
       "      <td>NaN</td>\n",
       "      <td>NaN</td>\n",
       "      <td>NaN</td>\n",
       "      <td>NaN</td>\n",
       "      <td>NaN</td>\n",
       "      <td>0.0</td>\n",
       "      <td>0.0</td>\n",
       "      <td>0</td>\n",
       "      <td>0</td>\n",
       "      <td>0.000000</td>\n",
       "      <td>-800.0</td>\n",
       "      <td>#c4f83c</td>\n",
       "    </tr>\n",
       "    <tr>\n",
       "      <th>124</th>\n",
       "      <td>Kiên Trần</td>\n",
       "      <td>104</td>\n",
       "      <td>2600</td>\n",
       "      <td>2024-09-01</td>\n",
       "      <td>2024-09-05</td>\n",
       "      <td>5</td>\n",
       "      <td>30</td>\n",
       "      <td>86.666667</td>\n",
       "      <td>433.333333</td>\n",
       "      <td>NaN</td>\n",
       "      <td>NaN</td>\n",
       "      <td>NaN</td>\n",
       "      <td>NaN</td>\n",
       "      <td>NaN</td>\n",
       "      <td>0.0</td>\n",
       "      <td>160.0</td>\n",
       "      <td>0</td>\n",
       "      <td>1</td>\n",
       "      <td>6.153846</td>\n",
       "      <td>-2440.0</td>\n",
       "      <td>#79c540</td>\n",
       "    </tr>\n",
       "  </tbody>\n",
       "</table>\n",
       "</div>"
      ],
      "text/plain": [
       "          user  Daily  Target  ... percentage_complete difference    color\n",
       "4           An     40    1000  ...            5.000000     -950.0  #b3c58b\n",
       "34        Hiệp     56    1400  ...            8.214286    -1285.0  #b8c19c\n",
       "64       Hoàng     32     800  ...            0.000000     -800.0  #1636a9\n",
       "94    Kiên Chu     32     800  ...            0.000000     -800.0  #c4f83c\n",
       "124  Kiên Trần    104    2600  ...            6.153846    -2440.0  #79c540\n",
       "\n",
       "[5 rows x 21 columns]"
      ]
     },
     "execution_count": 404,
     "metadata": {},
     "output_type": "execute_result"
    }
   ],
   "source": [
    "dta_chart.head()"
   ]
  },
  {
   "cell_type": "code",
   "execution_count": 408,
   "metadata": {},
   "outputs": [
    {
     "name": "stderr",
     "output_type": "stream",
     "text": [
      "C:\\Users\\kien.tn\\AppData\\Local\\Temp\\ipykernel_20320\\2798183570.py:2: SettingWithCopyWarning:\n",
      "\n",
      "\n",
      "A value is trying to be set on a copy of a slice from a DataFrame.\n",
      "Try using .loc[row_indexer,col_indexer] = value instead\n",
      "\n",
      "See the caveats in the documentation: https://pandas.pydata.org/pandas-docs/stable/user_guide/indexing.html#returning-a-view-versus-a-copy\n",
      "\n",
      "C:\\Users\\kien.tn\\AppData\\Local\\Temp\\ipykernel_20320\\2798183570.py:3: SettingWithCopyWarning:\n",
      "\n",
      "\n",
      "A value is trying to be set on a copy of a slice from a DataFrame.\n",
      "Try using .loc[row_indexer,col_indexer] = value instead\n",
      "\n",
      "See the caveats in the documentation: https://pandas.pydata.org/pandas-docs/stable/user_guide/indexing.html#returning-a-view-versus-a-copy\n",
      "\n",
      "C:\\Users\\kien.tn\\AppData\\Local\\Temp\\ipykernel_20320\\2798183570.py:10: SettingWithCopyWarning:\n",
      "\n",
      "\n",
      "A value is trying to be set on a copy of a slice from a DataFrame.\n",
      "Try using .loc[row_indexer,col_indexer] = value instead\n",
      "\n",
      "See the caveats in the documentation: https://pandas.pydata.org/pandas-docs/stable/user_guide/indexing.html#returning-a-view-versus-a-copy\n",
      "\n"
     ]
    },
    {
     "data": {
      "application/vnd.plotly.v1+json": {
       "config": {
        "plotlyServerURL": "https://plot.ly"
       },
       "data": [
        {
         "marker": {
          "color": [
           "#3c421e",
           "#c4a149",
           "#18c4a6",
           "#d0f808",
           "#e8010d",
           "#a4e826",
           "#30d086",
           "#ca514d",
           "#4ac5b6",
           "#60234e",
           "#dfede4",
           "#bc0049",
           "#d6d1e3"
          ]
         },
         "orientation": "h",
         "text": [
          "An | 1 ngày",
          "Hiệp | 1 ngày",
          "Hoàng | 0 ngày",
          "Kiên Chu | 0 ngày",
          "Kiên Trần | 1 ngày",
          "Ninh | 3 ngày",
          "Quỳnh | 1 ngày",
          "Sơn | 3 ngày",
          "Thiện | 0 ngày",
          "Thảo | 2 ngày",
          "Trung | 3 ngày",
          "Tuấn | 0 ngày",
          "Đức | 0 ngày"
         ],
         "textposition": "outside",
         "texttemplate": "%{text}",
         "type": "bar",
         "x": [
          1,
          1,
          0,
          0,
          1,
          3,
          1,
          3,
          0,
          2,
          3,
          0,
          0
         ],
         "y": [
          "An",
          "Hiệp",
          "Hoàng",
          "Kiên Chu",
          "Kiên Trần",
          "Ninh",
          "Quỳnh",
          "Sơn",
          "Thiện",
          "Thảo",
          "Trung",
          "Tuấn",
          "Đức"
         ]
        }
       ],
       "layout": {
        "bargap": 0.2,
        "height": 1430,
        "showlegend": false,
        "template": {
         "data": {
          "bar": [
           {
            "error_x": {
             "color": "#2a3f5f"
            },
            "error_y": {
             "color": "#2a3f5f"
            },
            "marker": {
             "line": {
              "color": "#E5ECF6",
              "width": 0.5
             },
             "pattern": {
              "fillmode": "overlay",
              "size": 10,
              "solidity": 0.2
             }
            },
            "type": "bar"
           }
          ],
          "barpolar": [
           {
            "marker": {
             "line": {
              "color": "#E5ECF6",
              "width": 0.5
             },
             "pattern": {
              "fillmode": "overlay",
              "size": 10,
              "solidity": 0.2
             }
            },
            "type": "barpolar"
           }
          ],
          "carpet": [
           {
            "aaxis": {
             "endlinecolor": "#2a3f5f",
             "gridcolor": "white",
             "linecolor": "white",
             "minorgridcolor": "white",
             "startlinecolor": "#2a3f5f"
            },
            "baxis": {
             "endlinecolor": "#2a3f5f",
             "gridcolor": "white",
             "linecolor": "white",
             "minorgridcolor": "white",
             "startlinecolor": "#2a3f5f"
            },
            "type": "carpet"
           }
          ],
          "choropleth": [
           {
            "colorbar": {
             "outlinewidth": 0,
             "ticks": ""
            },
            "type": "choropleth"
           }
          ],
          "contour": [
           {
            "colorbar": {
             "outlinewidth": 0,
             "ticks": ""
            },
            "colorscale": [
             [
              0,
              "#0d0887"
             ],
             [
              0.1111111111111111,
              "#46039f"
             ],
             [
              0.2222222222222222,
              "#7201a8"
             ],
             [
              0.3333333333333333,
              "#9c179e"
             ],
             [
              0.4444444444444444,
              "#bd3786"
             ],
             [
              0.5555555555555556,
              "#d8576b"
             ],
             [
              0.6666666666666666,
              "#ed7953"
             ],
             [
              0.7777777777777778,
              "#fb9f3a"
             ],
             [
              0.8888888888888888,
              "#fdca26"
             ],
             [
              1,
              "#f0f921"
             ]
            ],
            "type": "contour"
           }
          ],
          "contourcarpet": [
           {
            "colorbar": {
             "outlinewidth": 0,
             "ticks": ""
            },
            "type": "contourcarpet"
           }
          ],
          "heatmap": [
           {
            "colorbar": {
             "outlinewidth": 0,
             "ticks": ""
            },
            "colorscale": [
             [
              0,
              "#0d0887"
             ],
             [
              0.1111111111111111,
              "#46039f"
             ],
             [
              0.2222222222222222,
              "#7201a8"
             ],
             [
              0.3333333333333333,
              "#9c179e"
             ],
             [
              0.4444444444444444,
              "#bd3786"
             ],
             [
              0.5555555555555556,
              "#d8576b"
             ],
             [
              0.6666666666666666,
              "#ed7953"
             ],
             [
              0.7777777777777778,
              "#fb9f3a"
             ],
             [
              0.8888888888888888,
              "#fdca26"
             ],
             [
              1,
              "#f0f921"
             ]
            ],
            "type": "heatmap"
           }
          ],
          "heatmapgl": [
           {
            "colorbar": {
             "outlinewidth": 0,
             "ticks": ""
            },
            "colorscale": [
             [
              0,
              "#0d0887"
             ],
             [
              0.1111111111111111,
              "#46039f"
             ],
             [
              0.2222222222222222,
              "#7201a8"
             ],
             [
              0.3333333333333333,
              "#9c179e"
             ],
             [
              0.4444444444444444,
              "#bd3786"
             ],
             [
              0.5555555555555556,
              "#d8576b"
             ],
             [
              0.6666666666666666,
              "#ed7953"
             ],
             [
              0.7777777777777778,
              "#fb9f3a"
             ],
             [
              0.8888888888888888,
              "#fdca26"
             ],
             [
              1,
              "#f0f921"
             ]
            ],
            "type": "heatmapgl"
           }
          ],
          "histogram": [
           {
            "marker": {
             "pattern": {
              "fillmode": "overlay",
              "size": 10,
              "solidity": 0.2
             }
            },
            "type": "histogram"
           }
          ],
          "histogram2d": [
           {
            "colorbar": {
             "outlinewidth": 0,
             "ticks": ""
            },
            "colorscale": [
             [
              0,
              "#0d0887"
             ],
             [
              0.1111111111111111,
              "#46039f"
             ],
             [
              0.2222222222222222,
              "#7201a8"
             ],
             [
              0.3333333333333333,
              "#9c179e"
             ],
             [
              0.4444444444444444,
              "#bd3786"
             ],
             [
              0.5555555555555556,
              "#d8576b"
             ],
             [
              0.6666666666666666,
              "#ed7953"
             ],
             [
              0.7777777777777778,
              "#fb9f3a"
             ],
             [
              0.8888888888888888,
              "#fdca26"
             ],
             [
              1,
              "#f0f921"
             ]
            ],
            "type": "histogram2d"
           }
          ],
          "histogram2dcontour": [
           {
            "colorbar": {
             "outlinewidth": 0,
             "ticks": ""
            },
            "colorscale": [
             [
              0,
              "#0d0887"
             ],
             [
              0.1111111111111111,
              "#46039f"
             ],
             [
              0.2222222222222222,
              "#7201a8"
             ],
             [
              0.3333333333333333,
              "#9c179e"
             ],
             [
              0.4444444444444444,
              "#bd3786"
             ],
             [
              0.5555555555555556,
              "#d8576b"
             ],
             [
              0.6666666666666666,
              "#ed7953"
             ],
             [
              0.7777777777777778,
              "#fb9f3a"
             ],
             [
              0.8888888888888888,
              "#fdca26"
             ],
             [
              1,
              "#f0f921"
             ]
            ],
            "type": "histogram2dcontour"
           }
          ],
          "mesh3d": [
           {
            "colorbar": {
             "outlinewidth": 0,
             "ticks": ""
            },
            "type": "mesh3d"
           }
          ],
          "parcoords": [
           {
            "line": {
             "colorbar": {
              "outlinewidth": 0,
              "ticks": ""
             }
            },
            "type": "parcoords"
           }
          ],
          "pie": [
           {
            "automargin": true,
            "type": "pie"
           }
          ],
          "scatter": [
           {
            "fillpattern": {
             "fillmode": "overlay",
             "size": 10,
             "solidity": 0.2
            },
            "type": "scatter"
           }
          ],
          "scatter3d": [
           {
            "line": {
             "colorbar": {
              "outlinewidth": 0,
              "ticks": ""
             }
            },
            "marker": {
             "colorbar": {
              "outlinewidth": 0,
              "ticks": ""
             }
            },
            "type": "scatter3d"
           }
          ],
          "scattercarpet": [
           {
            "marker": {
             "colorbar": {
              "outlinewidth": 0,
              "ticks": ""
             }
            },
            "type": "scattercarpet"
           }
          ],
          "scattergeo": [
           {
            "marker": {
             "colorbar": {
              "outlinewidth": 0,
              "ticks": ""
             }
            },
            "type": "scattergeo"
           }
          ],
          "scattergl": [
           {
            "marker": {
             "colorbar": {
              "outlinewidth": 0,
              "ticks": ""
             }
            },
            "type": "scattergl"
           }
          ],
          "scattermapbox": [
           {
            "marker": {
             "colorbar": {
              "outlinewidth": 0,
              "ticks": ""
             }
            },
            "type": "scattermapbox"
           }
          ],
          "scatterpolar": [
           {
            "marker": {
             "colorbar": {
              "outlinewidth": 0,
              "ticks": ""
             }
            },
            "type": "scatterpolar"
           }
          ],
          "scatterpolargl": [
           {
            "marker": {
             "colorbar": {
              "outlinewidth": 0,
              "ticks": ""
             }
            },
            "type": "scatterpolargl"
           }
          ],
          "scatterternary": [
           {
            "marker": {
             "colorbar": {
              "outlinewidth": 0,
              "ticks": ""
             }
            },
            "type": "scatterternary"
           }
          ],
          "surface": [
           {
            "colorbar": {
             "outlinewidth": 0,
             "ticks": ""
            },
            "colorscale": [
             [
              0,
              "#0d0887"
             ],
             [
              0.1111111111111111,
              "#46039f"
             ],
             [
              0.2222222222222222,
              "#7201a8"
             ],
             [
              0.3333333333333333,
              "#9c179e"
             ],
             [
              0.4444444444444444,
              "#bd3786"
             ],
             [
              0.5555555555555556,
              "#d8576b"
             ],
             [
              0.6666666666666666,
              "#ed7953"
             ],
             [
              0.7777777777777778,
              "#fb9f3a"
             ],
             [
              0.8888888888888888,
              "#fdca26"
             ],
             [
              1,
              "#f0f921"
             ]
            ],
            "type": "surface"
           }
          ],
          "table": [
           {
            "cells": {
             "fill": {
              "color": "#EBF0F8"
             },
             "line": {
              "color": "white"
             }
            },
            "header": {
             "fill": {
              "color": "#C8D4E3"
             },
             "line": {
              "color": "white"
             }
            },
            "type": "table"
           }
          ]
         },
         "layout": {
          "annotationdefaults": {
           "arrowcolor": "#2a3f5f",
           "arrowhead": 0,
           "arrowwidth": 1
          },
          "autotypenumbers": "strict",
          "coloraxis": {
           "colorbar": {
            "outlinewidth": 0,
            "ticks": ""
           }
          },
          "colorscale": {
           "diverging": [
            [
             0,
             "#8e0152"
            ],
            [
             0.1,
             "#c51b7d"
            ],
            [
             0.2,
             "#de77ae"
            ],
            [
             0.3,
             "#f1b6da"
            ],
            [
             0.4,
             "#fde0ef"
            ],
            [
             0.5,
             "#f7f7f7"
            ],
            [
             0.6,
             "#e6f5d0"
            ],
            [
             0.7,
             "#b8e186"
            ],
            [
             0.8,
             "#7fbc41"
            ],
            [
             0.9,
             "#4d9221"
            ],
            [
             1,
             "#276419"
            ]
           ],
           "sequential": [
            [
             0,
             "#0d0887"
            ],
            [
             0.1111111111111111,
             "#46039f"
            ],
            [
             0.2222222222222222,
             "#7201a8"
            ],
            [
             0.3333333333333333,
             "#9c179e"
            ],
            [
             0.4444444444444444,
             "#bd3786"
            ],
            [
             0.5555555555555556,
             "#d8576b"
            ],
            [
             0.6666666666666666,
             "#ed7953"
            ],
            [
             0.7777777777777778,
             "#fb9f3a"
            ],
            [
             0.8888888888888888,
             "#fdca26"
            ],
            [
             1,
             "#f0f921"
            ]
           ],
           "sequentialminus": [
            [
             0,
             "#0d0887"
            ],
            [
             0.1111111111111111,
             "#46039f"
            ],
            [
             0.2222222222222222,
             "#7201a8"
            ],
            [
             0.3333333333333333,
             "#9c179e"
            ],
            [
             0.4444444444444444,
             "#bd3786"
            ],
            [
             0.5555555555555556,
             "#d8576b"
            ],
            [
             0.6666666666666666,
             "#ed7953"
            ],
            [
             0.7777777777777778,
             "#fb9f3a"
            ],
            [
             0.8888888888888888,
             "#fdca26"
            ],
            [
             1,
             "#f0f921"
            ]
           ]
          },
          "colorway": [
           "#636efa",
           "#EF553B",
           "#00cc96",
           "#ab63fa",
           "#FFA15A",
           "#19d3f3",
           "#FF6692",
           "#B6E880",
           "#FF97FF",
           "#FECB52"
          ],
          "font": {
           "color": "#2a3f5f"
          },
          "geo": {
           "bgcolor": "white",
           "lakecolor": "white",
           "landcolor": "#E5ECF6",
           "showlakes": true,
           "showland": true,
           "subunitcolor": "white"
          },
          "hoverlabel": {
           "align": "left"
          },
          "hovermode": "closest",
          "mapbox": {
           "style": "light"
          },
          "paper_bgcolor": "white",
          "plot_bgcolor": "#E5ECF6",
          "polar": {
           "angularaxis": {
            "gridcolor": "white",
            "linecolor": "white",
            "ticks": ""
           },
           "bgcolor": "#E5ECF6",
           "radialaxis": {
            "gridcolor": "white",
            "linecolor": "white",
            "ticks": ""
           }
          },
          "scene": {
           "xaxis": {
            "backgroundcolor": "#E5ECF6",
            "gridcolor": "white",
            "gridwidth": 2,
            "linecolor": "white",
            "showbackground": true,
            "ticks": "",
            "zerolinecolor": "white"
           },
           "yaxis": {
            "backgroundcolor": "#E5ECF6",
            "gridcolor": "white",
            "gridwidth": 2,
            "linecolor": "white",
            "showbackground": true,
            "ticks": "",
            "zerolinecolor": "white"
           },
           "zaxis": {
            "backgroundcolor": "#E5ECF6",
            "gridcolor": "white",
            "gridwidth": 2,
            "linecolor": "white",
            "showbackground": true,
            "ticks": "",
            "zerolinecolor": "white"
           }
          },
          "shapedefaults": {
           "line": {
            "color": "#2a3f5f"
           }
          },
          "ternary": {
           "aaxis": {
            "gridcolor": "white",
            "linecolor": "white",
            "ticks": ""
           },
           "baxis": {
            "gridcolor": "white",
            "linecolor": "white",
            "ticks": ""
           },
           "bgcolor": "#E5ECF6",
           "caxis": {
            "gridcolor": "white",
            "linecolor": "white",
            "ticks": ""
           }
          },
          "title": {
           "x": 0.05
          },
          "xaxis": {
           "automargin": true,
           "gridcolor": "white",
           "linecolor": "white",
           "ticks": "",
           "title": {
            "standoff": 15
           },
           "zerolinecolor": "white",
           "zerolinewidth": 2
          },
          "yaxis": {
           "automargin": true,
           "gridcolor": "white",
           "linecolor": "white",
           "ticks": "",
           "title": {
            "standoff": 15
           },
           "zerolinecolor": "white",
           "zerolinewidth": 2
          }
         }
        },
        "title": {
         "text": "Thực hiện target daily"
        },
        "yaxis": {
         "showticklabels": false
        }
       }
      }
     },
     "metadata": {},
     "output_type": "display_data"
    }
   ],
   "source": [
    "\n",
    "\n",
    "# Calculate percentage complete and differences\n",
    "dta_chart['percentage_complete'] = (dta_chart['mtd_actual'] / dta_chart['Target']) * 100\n",
    "dta_chart['difference'] = dta_chart['mtd_actual'] - dta_chart['Target']\n",
    "\n",
    "# Function to generate random color\n",
    "def random_color():\n",
    "    return '#{:02x}{:02x}{:02x}'.format(random.randint(0, 255), random.randint(0, 255), random.randint(0, 255))\n",
    "\n",
    "# Generate random colors for each store\n",
    "dta_chart['color'] = [random_color() for _ in dta_chart['user']]\n",
    "\n",
    "# Create the horizontal bar chart\n",
    "fig = go.Figure()\n",
    "\n",
    "# Add bars for each store\n",
    "fig.add_trace(go.Bar(\n",
    "    x=dta_chart['mtd_daily'],  # The percentage complete is shown in the bar\n",
    "    y=dta_chart['user'],  # Store names\n",
    "    orientation='h',  # Horizontal bar chart\n",
    "    marker=dict(color=dta_chart['color']),  # Assign random colors to the bars\n",
    "    text=[f\"{row['user']} | {row['mtd_daily']:,.0f} ngày\"\n",
    "          for _, row in dta_chart.iterrows()],  # Custom data labels\n",
    "    textposition='outside',  # Position text at the right edge of the bar\n",
    "    texttemplate='%{text}',  # Format to use custom text\n",
    "    # hoverinfo='none'  # Disable hover info to avoid duplication with text labels\n",
    "    \n",
    "))\n",
    "\n",
    "# Customize layout\n",
    "fig.update_layout(\n",
    "    title=\"Thực hiện target daily\",\n",
    "    # xaxis_title=\"Percentage Complete\",\n",
    "    yaxis=dict(showticklabels=False),  # Hide the store names on the y-axis\n",
    "    # xaxis=dict(range=[0, 16]),  # Limit x-axis to 100% max\n",
    "    height=len(dta_chart)*110,\n",
    "    bargap=0.2,  # Space between bars\n",
    "    showlegend=False\n",
    ")\n",
    "\n",
    "# Show the figure\n",
    "fig.show()\n"
   ]
  },
  {
   "cell_type": "code",
   "execution_count": null,
   "metadata": {},
   "outputs": [],
   "source": []
  }
 ],
 "metadata": {
  "kernelspec": {
   "display_name": "Python 3",
   "language": "python",
   "name": "python3"
  },
  "language_info": {
   "codemirror_mode": {
    "name": "ipython",
    "version": 3
   },
   "file_extension": ".py",
   "mimetype": "text/x-python",
   "name": "python",
   "nbconvert_exporter": "python",
   "pygments_lexer": "ipython3",
   "version": "3.11.5"
  }
 },
 "nbformat": 4,
 "nbformat_minor": 2
}
